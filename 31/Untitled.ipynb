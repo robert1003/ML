{
 "cells": [
  {
   "cell_type": "code",
   "execution_count": 1,
   "metadata": {},
   "outputs": [],
   "source": [
    "# import modules\n",
    "import sys\n",
    "sys.path.insert(0, '../')\n",
    "from utils.training_utils import *\n",
    "from sklearn.ensemble import ExtraTreesRegressor\n",
    "from sklearn.model_selection import GridSearchCV\n",
    "from sklearn.metrics import mean_absolute_error, make_scorer"
   ]
  },
  {
   "cell_type": "code",
   "execution_count": 2,
   "metadata": {},
   "outputs": [],
   "source": [
    "# specify params\n",
    "params = {\n",
    "    'n_estimators': [10, 50, 100, 500, 1000],\n",
    "    'max_depth': [3, 6, 9, None],\n",
    "    'max_features': ['log2', 'sqrt', 'auto'],\n",
    "}"
   ]
  },
  {
   "cell_type": "code",
   "execution_count": 3,
   "metadata": {},
   "outputs": [],
   "source": [
    "# load datas\n",
    "test_x, train_x, train_y = load_data(0)"
   ]
  },
  {
   "cell_type": "code",
   "execution_count": 4,
   "metadata": {},
   "outputs": [],
   "source": [
    "# create ExtraTreesRegressor\n",
    "model = ExtraTreesRegressor(criterion='mae', n_jobs=-1, random_state=1126, bootstrap=True, oob_score=True)"
   ]
  },
  {
   "cell_type": "code",
   "execution_count": 5,
   "metadata": {},
   "outputs": [],
   "source": [
    "# create GridSearchCV\n",
    "scorer = make_scorer(mean_absolute_error)\n",
    "search = GridSearchCV(estimator=model, \n",
    "                      param_grid=params, \n",
    "                      scoring=scorer,\n",
    "                      n_jobs=-1, \n",
    "                      cv=5, \n",
    "                      refit=True, \n",
    "                      verbose=100,\n",
    "                      return_train_score=True)"
   ]
  },
  {
   "cell_type": "code",
   "execution_count": 6,
   "metadata": {},
   "outputs": [
    {
     "name": "stdout",
     "output_type": "stream",
     "text": [
      "<bound method BaseEstimator.get_params of GridSearchCV(cv=5, error_score='raise-deprecating',\n",
      "       estimator=ExtraTreesRegressor(bootstrap=True, criterion='mae', max_depth=None,\n",
      "          max_features='auto', max_leaf_nodes=None,\n",
      "          min_impurity_decrease=0.0, min_impurity_split=None,\n",
      "          min_samples_leaf=1, min_samples_split=2,\n",
      "          min_weight_fraction_leaf=0.0, n_estimators='warn', n_jobs=-1,\n",
      "          oob_score=True, random_state=1126, verbose=0, warm_start=False),\n",
      "       fit_params=None, iid='warn', n_jobs=-1,\n",
      "       param_grid={'n_estimators': [10, 50, 100, 500, 1000], 'max_depth': [3, 6, 9, None], 'max_features': ['log2', 'sqrt', 'auto']},\n",
      "       pre_dispatch='2*n_jobs', refit=True, return_train_score=True,\n",
      "       scoring=make_scorer(mean_absolute_error), verbose=100)>\n"
     ]
    }
   ],
   "source": [
    "# print params\n",
    "print(search.get_params)"
   ]
  },
  {
   "cell_type": "code",
   "execution_count": null,
   "metadata": {},
   "outputs": [
    {
     "name": "stdout",
     "output_type": "stream",
     "text": [
      "Fitting 5 folds for each of 60 candidates, totalling 300 fits\n",
      "[Parallel(n_jobs=-1)]: Using backend LokyBackend with 24 concurrent workers.\n",
      "Memmapping (shape=(47500, 10000), dtype=float64) to new file /dev/shm/joblib_memmapping_folder_17858_4227826761/17858-139626635571552-c96d437eefba439f9bcc99a2db6a5177.pkl\n",
      "Pickling array (shape=(47500,), dtype=float64).\n",
      "Pickling array (shape=(38000,), dtype=int64).\n",
      "Pickling array (shape=(9500,), dtype=int64).\n",
      "Memmapping (shape=(47500, 10000), dtype=float64) to old file /dev/shm/joblib_memmapping_folder_17858_4227826761/17858-139626635571552-c96d437eefba439f9bcc99a2db6a5177.pkl\n",
      "Pickling array (shape=(47500,), dtype=float64).\n",
      "Pickling array (shape=(38000,), dtype=int64).\n",
      "Pickling array (shape=(9500,), dtype=int64).\n",
      "Memmapping (shape=(47500, 10000), dtype=float64) to old file /dev/shm/joblib_memmapping_folder_17858_4227826761/17858-139626635571552-c96d437eefba439f9bcc99a2db6a5177.pkl\n",
      "Pickling array (shape=(47500,), dtype=float64).\n",
      "Pickling array (shape=(38000,), dtype=int64).\n",
      "Pickling array (shape=(9500,), dtype=int64).\n",
      "Memmapping (shape=(47500, 10000), dtype=float64) to old file /dev/shm/joblib_memmapping_folder_17858_4227826761/17858-139626635571552-c96d437eefba439f9bcc99a2db6a5177.pkl\n",
      "Pickling array (shape=(47500,), dtype=float64).\n",
      "Pickling array (shape=(38000,), dtype=int64).\n",
      "Pickling array (shape=(9500,), dtype=int64).\n",
      "Memmapping (shape=(47500, 10000), dtype=float64) to old file /dev/shm/joblib_memmapping_folder_17858_4227826761/17858-139626635571552-c96d437eefba439f9bcc99a2db6a5177.pkl\n",
      "Pickling array (shape=(47500,), dtype=float64).\n",
      "Pickling array (shape=(38000,), dtype=int64).\n",
      "Pickling array (shape=(9500,), dtype=int64).\n",
      "Memmapping (shape=(47500, 10000), dtype=float64) to old file /dev/shm/joblib_memmapping_folder_17858_4227826761/17858-139626635571552-c96d437eefba439f9bcc99a2db6a5177.pkl\n",
      "Pickling array (shape=(47500,), dtype=float64).\n",
      "Pickling array (shape=(38000,), dtype=int64).\n",
      "Pickling array (shape=(9500,), dtype=int64).\n",
      "Memmapping (shape=(47500, 10000), dtype=float64) to old file /dev/shm/joblib_memmapping_folder_17858_4227826761/17858-139626635571552-c96d437eefba439f9bcc99a2db6a5177.pkl\n",
      "Pickling array (shape=(47500,), dtype=float64).\n",
      "Pickling array (shape=(38000,), dtype=int64).\n",
      "Pickling array (shape=(9500,), dtype=int64).\n",
      "Memmapping (shape=(47500, 10000), dtype=float64) to old file /dev/shm/joblib_memmapping_folder_17858_4227826761/17858-139626635571552-c96d437eefba439f9bcc99a2db6a5177.pkl\n",
      "Pickling array (shape=(47500,), dtype=float64).\n",
      "Pickling array (shape=(38000,), dtype=int64).\n",
      "Pickling array (shape=(9500,), dtype=int64).\n",
      "Memmapping (shape=(47500, 10000), dtype=float64) to old file /dev/shm/joblib_memmapping_folder_17858_4227826761/17858-139626635571552-c96d437eefba439f9bcc99a2db6a5177.pkl\n",
      "Pickling array (shape=(47500,), dtype=float64).\n",
      "Pickling array (shape=(38000,), dtype=int64).\n",
      "Pickling array (shape=(9500,), dtype=int64).\n",
      "Memmapping (shape=(47500, 10000), dtype=float64) to old file /dev/shm/joblib_memmapping_folder_17858_4227826761/17858-139626635571552-c96d437eefba439f9bcc99a2db6a5177.pkl\n",
      "Pickling array (shape=(47500,), dtype=float64).\n",
      "Pickling array (shape=(38000,), dtype=int64).\n",
      "Pickling array (shape=(9500,), dtype=int64).\n",
      "Memmapping (shape=(47500, 10000), dtype=float64) to old file /dev/shm/joblib_memmapping_folder_17858_4227826761/17858-139626635571552-c96d437eefba439f9bcc99a2db6a5177.pkl\n",
      "Pickling array (shape=(47500,), dtype=float64).\n",
      "Pickling array (shape=(38000,), dtype=int64).\n",
      "Pickling array (shape=(9500,), dtype=int64).\n",
      "Memmapping (shape=(47500, 10000), dtype=float64) to old file /dev/shm/joblib_memmapping_folder_17858_4227826761/17858-139626635571552-c96d437eefba439f9bcc99a2db6a5177.pkl\n",
      "Pickling array (shape=(47500,), dtype=float64).\n",
      "Pickling array (shape=(38000,), dtype=int64).\n",
      "Pickling array (shape=(9500,), dtype=int64).\n",
      "Memmapping (shape=(47500, 10000), dtype=float64) to old file /dev/shm/joblib_memmapping_folder_17858_4227826761/17858-139626635571552-c96d437eefba439f9bcc99a2db6a5177.pkl\n",
      "Pickling array (shape=(47500,), dtype=float64).\n",
      "Pickling array (shape=(38000,), dtype=int64).\n",
      "Pickling array (shape=(9500,), dtype=int64).\n",
      "Memmapping (shape=(47500, 10000), dtype=float64) to old file /dev/shm/joblib_memmapping_folder_17858_4227826761/17858-139626635571552-c96d437eefba439f9bcc99a2db6a5177.pkl\n",
      "Pickling array (shape=(47500,), dtype=float64).\n",
      "Pickling array (shape=(38000,), dtype=int64).\n",
      "Pickling array (shape=(9500,), dtype=int64).\n",
      "Memmapping (shape=(47500, 10000), dtype=float64) to old file /dev/shm/joblib_memmapping_folder_17858_4227826761/17858-139626635571552-c96d437eefba439f9bcc99a2db6a5177.pkl\n",
      "Pickling array (shape=(47500,), dtype=float64).\n",
      "Pickling array (shape=(38000,), dtype=int64).\n",
      "Pickling array (shape=(9500,), dtype=int64).\n",
      "Memmapping (shape=(47500, 10000), dtype=float64) to old file /dev/shm/joblib_memmapping_folder_17858_4227826761/17858-139626635571552-c96d437eefba439f9bcc99a2db6a5177.pkl\n",
      "Pickling array (shape=(47500,), dtype=float64).\n",
      "Pickling array (shape=(38000,), dtype=int64).\n",
      "Pickling array (shape=(9500,), dtype=int64).\n",
      "Memmapping (shape=(47500, 10000), dtype=float64) to old file /dev/shm/joblib_memmapping_folder_17858_4227826761/17858-139626635571552-c96d437eefba439f9bcc99a2db6a5177.pkl\n",
      "Pickling array (shape=(47500,), dtype=float64).\n",
      "Pickling array (shape=(38000,), dtype=int64).\n",
      "Pickling array (shape=(9500,), dtype=int64).\n",
      "Memmapping (shape=(47500, 10000), dtype=float64) to old file /dev/shm/joblib_memmapping_folder_17858_4227826761/17858-139626635571552-c96d437eefba439f9bcc99a2db6a5177.pkl\n",
      "Pickling array (shape=(47500,), dtype=float64).\n",
      "Pickling array (shape=(38000,), dtype=int64).\n",
      "Pickling array (shape=(9500,), dtype=int64).\n",
      "Memmapping (shape=(47500, 10000), dtype=float64) to old file /dev/shm/joblib_memmapping_folder_17858_4227826761/17858-139626635571552-c96d437eefba439f9bcc99a2db6a5177.pkl\n",
      "Pickling array (shape=(47500,), dtype=float64).\n",
      "Pickling array (shape=(38000,), dtype=int64).\n",
      "Pickling array (shape=(9500,), dtype=int64).\n",
      "Memmapping (shape=(47500, 10000), dtype=float64) to old file /dev/shm/joblib_memmapping_folder_17858_4227826761/17858-139626635571552-c96d437eefba439f9bcc99a2db6a5177.pkl\n",
      "Pickling array (shape=(47500,), dtype=float64).\n",
      "Pickling array (shape=(38000,), dtype=int64).\n",
      "Pickling array (shape=(9500,), dtype=int64).\n",
      "Memmapping (shape=(47500, 10000), dtype=float64) to old file /dev/shm/joblib_memmapping_folder_17858_4227826761/17858-139626635571552-c96d437eefba439f9bcc99a2db6a5177.pkl\n",
      "Pickling array (shape=(47500,), dtype=float64).\n",
      "Pickling array (shape=(38000,), dtype=int64).\n",
      "Pickling array (shape=(9500,), dtype=int64).\n",
      "Memmapping (shape=(47500, 10000), dtype=float64) to old file /dev/shm/joblib_memmapping_folder_17858_4227826761/17858-139626635571552-c96d437eefba439f9bcc99a2db6a5177.pkl\n",
      "Pickling array (shape=(47500,), dtype=float64).\n",
      "Pickling array (shape=(38000,), dtype=int64).\n",
      "Pickling array (shape=(9500,), dtype=int64).\n",
      "Memmapping (shape=(47500, 10000), dtype=float64) to old file /dev/shm/joblib_memmapping_folder_17858_4227826761/17858-139626635571552-c96d437eefba439f9bcc99a2db6a5177.pkl\n",
      "Pickling array (shape=(47500,), dtype=float64).\n",
      "Pickling array (shape=(38000,), dtype=int64).\n",
      "Pickling array (shape=(9500,), dtype=int64).\n",
      "Memmapping (shape=(47500, 10000), dtype=float64) to old file /dev/shm/joblib_memmapping_folder_17858_4227826761/17858-139626635571552-c96d437eefba439f9bcc99a2db6a5177.pkl\n",
      "Pickling array (shape=(47500,), dtype=float64).\n",
      "Pickling array (shape=(38000,), dtype=int64).\n",
      "Pickling array (shape=(9500,), dtype=int64).\n",
      "Memmapping (shape=(47500, 10000), dtype=float64) to old file /dev/shm/joblib_memmapping_folder_17858_4227826761/17858-139626635571552-c96d437eefba439f9bcc99a2db6a5177.pkl\n",
      "Pickling array (shape=(47500,), dtype=float64).\n",
      "Pickling array (shape=(38000,), dtype=int64).\n",
      "Pickling array (shape=(9500,), dtype=int64).\n"
     ]
    }
   ],
   "source": [
    "# fit\n",
    "search.fit(train_x, train_y)"
   ]
  },
  {
   "cell_type": "code",
   "execution_count": null,
   "metadata": {},
   "outputs": [],
   "source": [
    "# print cv_results_\n",
    "import numpy as np\n",
    "np.set_printoptions(threshold=np.inf)\n",
    "print(search.cv_results_)"
   ]
  },
  {
   "cell_type": "code",
   "execution_count": null,
   "metadata": {},
   "outputs": [],
   "source": []
  }
 ],
 "metadata": {
  "kernelspec": {
   "display_name": "Python 3",
   "language": "python",
   "name": "python3"
  },
  "language_info": {
   "codemirror_mode": {
    "name": "ipython",
    "version": 3
   },
   "file_extension": ".py",
   "mimetype": "text/x-python",
   "name": "python",
   "nbconvert_exporter": "python",
   "pygments_lexer": "ipython3",
   "version": "3.7.3"
  }
 },
 "nbformat": 4,
 "nbformat_minor": 2
}
