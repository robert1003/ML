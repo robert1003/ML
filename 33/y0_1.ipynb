{
 "cells": [
  {
   "cell_type": "code",
   "execution_count": 9,
   "metadata": {},
   "outputs": [],
   "source": [
    "# specify id\n",
    "y_id = 0\n",
    "track_id = 1\n",
    "server = 4\n",
    "error_rate = 200.0"
   ]
  },
  {
   "cell_type": "code",
   "execution_count": 2,
   "metadata": {},
   "outputs": [],
   "source": [
    "# import module\n",
    "import sys\n",
    "sys.path.insert(0, '../')\n",
    "from utils.training_utils import *\n",
    "from sklearn.model_selection import GridSearchCV\n",
    "from sklearn.metrics import mean_absolute_error, make_scorer\n",
    "from xgboost import XGBRegressor"
   ]
  },
  {
   "cell_type": "code",
   "execution_count": 3,
   "metadata": {},
   "outputs": [],
   "source": [
    "# specify parameters\n",
    "params= {\n",
    "    'booster': ['dart'],\n",
    "    'n_estimators': [500],\n",
    "    'max_depth': [9],\n",
    "    'subsample': [0.5],\n",
    "    'learning_rate': [0.1], \n",
    "    'tree_method': ['hist']\n",
    "}"
   ]
  },
  {
   "cell_type": "code",
   "execution_count": 4,
   "metadata": {},
   "outputs": [
    {
     "name": "stdout",
     "output_type": "stream",
     "text": [
      "(2500, 10000) (47500, 10000) (47500,)\n"
     ]
    }
   ],
   "source": [
    "# load datas\n",
    "test_x, train_x, train_y = load_data(y_id)\n",
    "print(test_x.shape, train_x.shape, train_y.shape)"
   ]
  },
  {
   "cell_type": "code",
   "execution_count": 5,
   "metadata": {},
   "outputs": [
    {
     "name": "stdout",
     "output_type": "stream",
     "text": [
      "(47500, 87)\n"
     ]
    }
   ],
   "source": [
    "# pick only important data\n",
    "idx = []\n",
    "with open('../29/adaboost' + str(y_id) + '_feature.csv', 'r') as f:\n",
    "    i = 0\n",
    "    for lines in f:\n",
    "        importance = float(lines.replace('\\n', '').split(',')[y_id])\n",
    "        if(np.abs(importance) > 1e-9):\n",
    "            idx.append(i)\n",
    "        i += 1\n",
    "train_x = train_x[:, idx]\n",
    "test_x = test_x[:, idx]\n",
    "print(train_x.shape)"
   ]
  },
  {
   "cell_type": "code",
   "execution_count": 6,
   "metadata": {},
   "outputs": [],
   "source": [
    "# define my own scorer\n",
    "from sklearn.metrics import make_scorer\n",
    "\n",
    "def scorer(y, y_pred):\n",
    "    return -np.sum(np.abs(y - y_pred)) * error_rate / len(y)"
   ]
  },
  {
   "cell_type": "code",
   "execution_count": null,
   "metadata": {},
   "outputs": [],
   "source": [
    "# create GridSearchCV\n",
    "model = GridSearchCV(estimator=XGBRegressor(verbosity=2, n_jobs=8), \n",
    "                     param_grid=params, \n",
    "                     scoring=make_scorer(scorer),\n",
    "                     cv=3,\n",
    "                     verbose=20,\n",
    "                     n_jobs=4,\n",
    "                     return_train_score=True)"
   ]
  },
  {
   "cell_type": "code",
   "execution_count": null,
   "metadata": {},
   "outputs": [],
   "source": [
    "# train\n",
    "model.fit(train_x, train_y)"
   ]
  },
  {
   "cell_type": "code",
   "execution_count": null,
   "metadata": {},
   "outputs": [],
   "source": [
    "# write files\n",
    "write_prediction('train_y' + str(y_id) + '_' + str(track_id) + '.txt', 'w', model.predict(train_x).reshape((47500, 1)).astype('str'))\n",
    "write_prediction('test_y' + str(y_id) + '_' + str(track_id) + '.txt', 'w', model.predict(test_x).reshape((2500, 1)).astype('str'))"
   ]
  },
  {
   "cell_type": "code",
   "execution_count": null,
   "metadata": {},
   "outputs": [],
   "source": [
    "print(err1_calc(model.predict(train_x), train_y, y_id))"
   ]
  },
  {
   "cell_type": "code",
   "execution_count": null,
   "metadata": {},
   "outputs": [],
   "source": [
    "print(err2_calc(model2.predict(train_x), train_y))"
   ]
  },
  {
   "cell_type": "code",
   "execution_count": null,
   "metadata": {},
   "outputs": [],
   "source": [
    "print(model.best_estimator_)"
   ]
  },
  {
   "cell_type": "code",
   "execution_count": null,
   "metadata": {},
   "outputs": [],
   "source": [
    "print(model.best_score_)"
   ]
  }
 ],
 "metadata": {
  "kernelspec": {
   "display_name": "Python 3",
   "language": "python",
   "name": "python3"
  },
  "language_info": {
   "codemirror_mode": {
    "name": "ipython",
    "version": 3
   },
   "file_extension": ".py",
   "mimetype": "text/x-python",
   "name": "python",
   "nbconvert_exporter": "python",
   "pygments_lexer": "ipython3",
   "version": "3.7.3"
  }
 },
 "nbformat": 4,
 "nbformat_minor": 2
}
