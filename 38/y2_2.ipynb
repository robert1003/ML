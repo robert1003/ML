{
 "cells": [
  {
   "cell_type": "code",
   "execution_count": 1,
   "metadata": {},
   "outputs": [],
   "source": [
    "# specify id\n",
    "y_id = 2\n",
    "track_id = 2\n",
    "server = 4"
   ]
  },
  {
   "cell_type": "code",
   "execution_count": 10,
   "metadata": {},
   "outputs": [],
   "source": [
    "# import module\n",
    "import sys\n",
    "sys.path.insert(0, '../')\n",
    "from utils.training_utils import *\n",
    "from sklearn.model_selection import GridSearchCV\n",
    "from sklearn.metrics import mean_absolute_error, make_scorer\n",
    "from xgboost import XGBRegressor\n",
    "import matplotlib.pyplot as plt\n",
    "import pandas as pd"
   ]
  },
  {
   "cell_type": "code",
   "execution_count": 4,
   "metadata": {},
   "outputs": [
    {
     "name": "stdout",
     "output_type": "stream",
     "text": [
      "(2500, 10000) (47500, 10000) (47500,)\n"
     ]
    }
   ],
   "source": [
    "# load datas\n",
    "test_x, train_x, train_y = load_data(y_id)\n",
    "print(test_x.shape, train_x.shape, train_y.shape)"
   ]
  },
  {
   "cell_type": "code",
   "execution_count": 11,
   "metadata": {},
   "outputs": [
    {
     "data": {
      "image/png": "[encoded data removed]",
      "text/plain": [
       "<Figure size 432x288 with 1 Axes>"
      ]
     },
     "metadata": {
      "needs_background": "light"
     },
     "output_type": "display_data"
    },
    {
     "data": {
      "image/png": "[encoded data removed]",
      "text/plain": [
       "<Figure size 432x288 with 1 Axes>"
      ]
     },
     "metadata": {
      "needs_background": "light"
     },
     "output_type": "display_data"
    },
    {
     "data": {
      "image/png": "[encoded data removed]",
      "text/plain": [
       "<Figure size 432x288 with 1 Axes>"
      ]
     },
     "metadata": {
      "needs_background": "light"
     },
     "output_type": "display_data"
    },
    {
     "name": "stdout",
     "output_type": "stream",
     "text": [
      "[0.80366996 0.59863587 0.6035146  ... 0.71932249 0.54472429 0.51776807]\n"
     ]
    },
    {
     "data": {
      "text/html": [
       "<div>\n",
       "<style scoped>\n",
       "    .dataframe tbody tr th:only-of-type {\n",
       "        vertical-align: middle;\n",
       "    }\n",
       "\n",
       "    .dataframe tbody tr th {\n",
       "        vertical-align: top;\n",
       "    }\n",
       "\n",
       "    .dataframe thead th {\n",
       "        text-align: right;\n",
       "    }\n",
       "</style>\n",
       "<table border=\"1\" class=\"dataframe\">\n",
       "  <thead>\n",
       "    <tr style=\"text-align: right;\">\n",
       "      <th></th>\n",
       "      <th>0</th>\n",
       "    </tr>\n",
       "  </thead>\n",
       "  <tbody>\n",
       "    <tr>\n",
       "      <th>count</th>\n",
       "      <td>47500.000000</td>\n",
       "    </tr>\n",
       "    <tr>\n",
       "      <th>mean</th>\n",
       "      <td>0.749719</td>\n",
       "    </tr>\n",
       "    <tr>\n",
       "      <th>std</th>\n",
       "      <td>0.143919</td>\n",
       "    </tr>\n",
       "    <tr>\n",
       "      <th>min</th>\n",
       "      <td>0.500035</td>\n",
       "    </tr>\n",
       "    <tr>\n",
       "      <th>25%</th>\n",
       "      <td>0.624887</td>\n",
       "    </tr>\n",
       "    <tr>\n",
       "      <th>50%</th>\n",
       "      <td>0.751707</td>\n",
       "    </tr>\n",
       "    <tr>\n",
       "      <th>75%</th>\n",
       "      <td>0.873909</td>\n",
       "    </tr>\n",
       "    <tr>\n",
       "      <th>max</th>\n",
       "      <td>0.999896</td>\n",
       "    </tr>\n",
       "  </tbody>\n",
       "</table>\n",
       "</div>"
      ],
      "text/plain": [
       "                  0\n",
       "count  47500.000000\n",
       "mean       0.749719\n",
       "std        0.143919\n",
       "min        0.500035\n",
       "25%        0.624887\n",
       "50%        0.751707\n",
       "75%        0.873909\n",
       "max        0.999896"
      ]
     },
     "execution_count": 11,
     "metadata": {},
     "output_type": "execute_result"
    }
   ],
   "source": [
    "# draw distribution of y2\n",
    "plt.boxplot(train_y)\n",
    "plt.show()\n",
    "plt.hist(train_y)\n",
    "plt.show()\n",
    "x = sorted(train_y)\n",
    "plt.plot(x)\n",
    "plt.show()\n",
    "print(train_y)\n",
    "d = pd.DataFrame(train_y)\n",
    "d.describe()"
   ]
  },
  {
   "cell_type": "code",
   "execution_count": 4,
   "metadata": {},
   "outputs": [
    {
     "name": "stdout",
     "output_type": "stream",
     "text": [
      "(47500, 565)\n"
     ]
    }
   ],
   "source": [
    "# pick only important data\n",
    "idx = []\n",
    "with open('../29/adaboost' + str(y_id) + '_feature.csv', 'r') as f:\n",
    "    i = 0\n",
    "    for lines in f:\n",
    "        importance = float(lines.replace('\\n', '').split(',')[y_id])\n",
    "        if(np.abs(importance) > 1e-9):\n",
    "            idx.append(i)\n",
    "        i += 1\n",
    "train_x = train_x[:, idx]\n",
    "test_x = test_x[:, idx]\n",
    "print(train_x.shape)"
   ]
  },
  {
   "cell_type": "code",
   "execution_count": 3,
   "metadata": {},
   "outputs": [],
   "source": [
    "# specify parameters\n",
    "params = {\n",
    "    'booster': ['gbtree', 'dart'],\n",
    "    'n_estimators': [50, 100, 500],\n",
    "    'max_depth': [3, 6],\n",
    "    'subsample': [0.25, 0.5, 0.75],\n",
    "    'learning_rate': [0.1, 0.05, 0.01], \n",
    "    'tree_method': ['hist', 'auto']\n",
    "}\n",
    "params_test = {\n",
    "    'booster': ['dart'],\n",
    "    'n_estimators': [500],\n",
    "    'max_depth': [9],\n",
    "    'subsample': [0.75, 0.5],\n",
    "    'learning_rate': [0.1], \n",
    "    'tree_method': ['hist', 'auto']\n",
    "}"
   ]
  },
  {
   "cell_type": "code",
   "execution_count": 5,
   "metadata": {},
   "outputs": [],
   "source": [
    "# define my own scorer\n",
    "from sklearn.metrics import make_scorer\n",
    "\n",
    "def scorer(y, y_pred):\n",
    "    return -np.sum(np.abs(y - y_pred) / y) / len(y)"
   ]
  },
  {
   "cell_type": "code",
   "execution_count": 11,
   "metadata": {},
   "outputs": [
    {
     "name": "stdout",
     "output_type": "stream",
     "text": [
      "0.005157021354906248\n"
     ]
    }
   ],
   "source": [
    "print(err2_calc(model.predict(train_x), train_y))"
   ]
  },
  {
   "cell_type": "code",
   "execution_count": 12,
   "metadata": {},
   "outputs": [
    {
     "name": "stdout",
     "output_type": "stream",
     "text": [
      "XGBRegressor(base_score=0.5, booster='dart', colsample_bylevel=1,\n",
      "       colsample_bytree=1, gamma=0, importance_type='gain',\n",
      "       learning_rate=0.1, max_delta_step=0, max_depth=6,\n",
      "       min_child_weight=1, missing=None, n_estimators=500, n_jobs=8,\n",
      "       nthread=None, objective='reg:linear', random_state=0, reg_alpha=0,\n",
      "       reg_lambda=1, scale_pos_weight=1, seed=None, silent=True,\n",
      "       subsample=0.75, tree_method='hist', verbosity=2)\n"
     ]
    }
   ],
   "source": [
    "print(model.best_estimator_)"
   ]
  },
  {
   "cell_type": "code",
   "execution_count": 8,
   "metadata": {},
   "outputs": [],
   "source": [
    "model = GridSearchCV(estimator=XGBRegressor(verbosity=2, n_jobs=8), \n",
    "                     param_grid=params_test, \n",
    "                     scoring=make_scorer(scorer),\n",
    "                     cv=3,\n",
    "                     verbose=20,\n",
    "                     n_jobs=4,\n",
    "                     return_train_score=True)"
   ]
  },
  {
   "cell_type": "code",
   "execution_count": 10,
   "metadata": {},
   "outputs": [
    {
     "name": "stdout",
     "output_type": "stream",
     "text": [
      "Fitting 3 folds for each of 4 candidates, totalling 12 fits\n"
     ]
    },
    {
     "name": "stderr",
     "output_type": "stream",
     "text": [
      "[Parallel(n_jobs=4)]: Using backend LokyBackend with 4 concurrent workers.\n",
      "[Parallel(n_jobs=4)]: Done   1 tasks      | elapsed:  9.9min\n",
      "[Parallel(n_jobs=4)]: Done   2 tasks      | elapsed: 13.9min\n",
      "[Parallel(n_jobs=4)]: Done   3 tasks      | elapsed: 15.2min\n",
      "[Parallel(n_jobs=4)]: Done   4 tasks      | elapsed: 16.7min\n",
      "[Parallel(n_jobs=4)]: Done   5 tasks      | elapsed: 19.7min\n",
      "[Parallel(n_jobs=4)]: Done   6 out of  12 | elapsed: 23.7min remaining: 23.7min\n",
      "[Parallel(n_jobs=4)]: Done   7 out of  12 | elapsed: 30.4min remaining: 21.7min\n",
      "[Parallel(n_jobs=4)]: Done   8 out of  12 | elapsed: 32.2min remaining: 16.1min\n",
      "[Parallel(n_jobs=4)]: Done   9 out of  12 | elapsed: 32.4min remaining: 10.8min\n",
      "[Parallel(n_jobs=4)]: Done  10 out of  12 | elapsed: 33.9min remaining:  6.8min\n",
      "[Parallel(n_jobs=4)]: Done  12 out of  12 | elapsed: 38.7min remaining:    0.0s\n",
      "[Parallel(n_jobs=4)]: Done  12 out of  12 | elapsed: 38.7min finished\n",
      "/home/student/07/b07902047/python-packages/xgboost/lib/python3.7/site-packages/xgboost/core.py:613: UserWarning: Use subset (sliced data) of np.ndarray is not recommended because it will generate extra copies and increase memory consumption\n",
      "  warnings.warn(\"Use subset (sliced data) of np.ndarray is not recommended \" +\n"
     ]
    },
    {
     "data": {
      "text/plain": [
       "GridSearchCV(cv=3, error_score='raise-deprecating',\n",
       "       estimator=XGBRegressor(base_score=0.5, booster='gbtree', colsample_bylevel=1,\n",
       "       colsample_bytree=1, gamma=0, importance_type='gain',\n",
       "       learning_rate=0.1, max_delta_step=0, max_depth=3,\n",
       "       min_child_weight=1, missing=None, n_estimators=100, n_jobs=8,\n",
       "       nthread=None, objective='reg:linear', random_state=0, reg_alpha=0,\n",
       "       reg_lambda=1, scale_pos_weight=1, seed=None, silent=True,\n",
       "       subsample=1, verbosity=2),\n",
       "       fit_params=None, iid='warn', n_jobs=4,\n",
       "       param_grid={'booster': ['dart'], 'n_estimators': [500], 'max_depth': [9], 'subsample': [0.75, 0.5], 'learning_rate': [0.1], 'tree_method': ['hist', 'auto']},\n",
       "       pre_dispatch='2*n_jobs', refit=True, return_train_score=True,\n",
       "       scoring=make_scorer(scorer), verbose=20)"
      ]
     },
     "execution_count": 10,
     "metadata": {},
     "output_type": "execute_result"
    }
   ],
   "source": [
    "model.fit(train_x, train_y)"
   ]
  },
  {
   "cell_type": "code",
   "execution_count": 16,
   "metadata": {},
   "outputs": [],
   "source": [
    "# write files\n",
    "write_prediction('train_y' + str(y_id) + '_' + str(track_id) + '.txt', 'w', model.predict(train_x).reshape((47500, 1)).astype('str'))\n",
    "write_prediction('test_y' + str(y_id) + '_' + str(track_id) + '.txt', 'w', model.predict(test_x).reshape((2500, 1)).astype('str'))"
   ]
  },
  {
   "cell_type": "code",
   "execution_count": 11,
   "metadata": {},
   "outputs": [
    {
     "name": "stdout",
     "output_type": "stream",
     "text": [
      "0.16900158048345704\n"
     ]
    }
   ],
   "source": [
    "print(err1_calc(model.predict(train_x), train_y, y_id))"
   ]
  },
  {
   "cell_type": "code",
   "execution_count": 12,
   "metadata": {},
   "outputs": [
    {
     "name": "stdout",
     "output_type": "stream",
     "text": [
      "0.0007744558685535031\n"
     ]
    }
   ],
   "source": [
    "print(err2_calc(model.predict(train_x), train_y))"
   ]
  },
  {
   "cell_type": "code",
   "execution_count": 13,
   "metadata": {},
   "outputs": [
    {
     "name": "stdout",
     "output_type": "stream",
     "text": [
      "XGBRegressor(base_score=0.5, booster='dart', colsample_bylevel=1,\n",
      "       colsample_bytree=1, gamma=0, importance_type='gain',\n",
      "       learning_rate=0.1, max_delta_step=0, max_depth=9,\n",
      "       min_child_weight=1, missing=None, n_estimators=500, n_jobs=8,\n",
      "       nthread=None, objective='reg:linear', random_state=0, reg_alpha=0,\n",
      "       reg_lambda=1, scale_pos_weight=1, seed=None, silent=True,\n",
      "       subsample=0.75, tree_method='hist', verbosity=2)\n"
     ]
    }
   ],
   "source": [
    "print(model.best_estimator_)"
   ]
  },
  {
   "cell_type": "code",
   "execution_count": 14,
   "metadata": {},
   "outputs": [
    {
     "name": "stdout",
     "output_type": "stream",
     "text": [
      "-0.008907696334256731\n"
     ]
    }
   ],
   "source": [
    "print(model.best_score_)"
   ]
  }
 ],
 "metadata": {
  "kernelspec": {
   "display_name": "Python 3",
   "language": "python",
   "name": "python3"
  },
  "language_info": {
   "codemirror_mode": {
    "name": "ipython",
    "version": 3
   },
   "file_extension": ".py",
   "mimetype": "text/x-python",
   "name": "python",
   "nbconvert_exporter": "python",
   "pygments_lexer": "ipython3",
   "version": "3.7.3"
  }
 },
 "nbformat": 4,
 "nbformat_minor": 2
}
