{
 "cells": [
  {
   "cell_type": "code",
   "execution_count": 1,
   "metadata": {},
   "outputs": [],
   "source": [
    "# specify id\n",
    "y_id = 1\n",
    "track_id = 2\n",
    "server = 4"
   ]
  },
  {
   "cell_type": "code",
   "execution_count": 2,
   "metadata": {},
   "outputs": [],
   "source": [
    "# import module\n",
    "import sys\n",
    "sys.path.insert(0, '../')\n",
    "from utils.training_utils import *\n",
    "from sklearn.model_selection import GridSearchCV\n",
    "from sklearn.metrics import mean_absolute_error, make_scorer\n",
    "from sklearn.ensemble import ExtraTreesRegressor\n",
    "from sklearn.ensemble import RandomForestRegressor\n",
    "from xgboost import XGBRegressor\n",
    "import matplotlib.pyplot as plt\n",
    "import pandas as pd"
   ]
  },
  {
   "cell_type": "code",
   "execution_count": 3,
   "metadata": {},
   "outputs": [
    {
     "name": "stdout",
     "output_type": "stream",
     "text": [
      "(2500, 10000) (47500, 10000) (47500,)\n"
     ]
    }
   ],
   "source": [
    "# load datas\n",
    "test_x, train_x, train_y = load_data(y_id)\n",
    "print(test_x.shape, train_x.shape, train_y.shape)"
   ]
  },
  {
   "cell_type": "code",
   "execution_count": null,
   "metadata": {},
   "outputs": [],
   "source": [
    "# draw distribution of y1\n",
    "plt.boxplot(train_y)\n",
    "plt.show()\n",
    "plt.hist(train_y)\n",
    "plt.show()\n",
    "x = sorted(train_y)\n",
    "plt.plot(x)\n",
    "plt.show()\n",
    "print(train_y)\n",
    "d = pd.DataFrame(train_y)\n",
    "d.describe()"
   ]
  },
  {
   "cell_type": "code",
   "execution_count": 4,
   "metadata": {},
   "outputs": [
    {
     "name": "stdout",
     "output_type": "stream",
     "text": [
      "402\n",
      "(47500, 402)\n"
     ]
    }
   ],
   "source": [
    "# pick only important data\n",
    "idx = {}\n",
    "with open('../29/adaboost' + str(y_id) + '_feature.csv', 'r') as f:\n",
    "    i = 0\n",
    "    for lines in f:\n",
    "        importance = float(lines.replace('\\n', '').split(',')[y_id])\n",
    "        if i not in idx:\n",
    "            idx[i] = 0\n",
    "        idx[i] += importance\n",
    "        i += 1\n",
    "with open('../28/adaboost' + str(y_id) + '_feature.csv', 'r') as f:\n",
    "    i = 0\n",
    "    for lines in f:\n",
    "        importance = float(lines.replace('\\n', '').split(',')[y_id])\n",
    "        if i not in idx:\n",
    "            idx[i] = 0\n",
    "        idx[i] += importance\n",
    "        i += 1\n",
    "\n",
    "with open('../32/adaboost' + str(y_id) + '_feature.csv', 'r') as f:\n",
    "    i = 0\n",
    "    for lines in f:\n",
    "        importance = float(lines.replace('\\n', '').split(',')[y_id])\n",
    "        if i not in idx:\n",
    "            idx[i] = 0\n",
    "        idx[i] += importance\n",
    "        i += 1\n",
    "with open('../35/random_forest' + str(y_id) + '_feature.csv', 'r') as f:\n",
    "    i = 0\n",
    "    for lines in f:\n",
    "        importance = float(lines.replace('\\n', '').split(',')[y_id])\n",
    "        if i not in idx:\n",
    "            idx[i] = 0\n",
    "        idx[i] += importance\n",
    "        i += 1\n",
    "    \n",
    "idxx = [i[0] for i in idx.items() if i[1] > 1e-3]\n",
    "print(len(idxx))\n",
    "train_x = train_x[:, idxx]\n",
    "test_x = test_x[:, idxx]\n",
    "print(train_x.shape)"
   ]
  },
  {
   "cell_type": "code",
   "execution_count": 10,
   "metadata": {},
   "outputs": [
    {
     "name": "stdout",
     "output_type": "stream",
     "text": [
      "70543\n",
      "(70543, 402)\n"
     ]
    }
   ],
   "source": [
    "cnt = 0\n",
    "for i in train_y:\n",
    "    v = int(1 / i * 100 + 1)\n",
    "    cnt += v\n",
    "print(cnt)\n",
    "\n",
    "scaled_x = []\n",
    "scaled_y = []\n",
    "for i, j in zip(train_x, train_y):\n",
    "    v = int(1 / j * 100 + 1)\n",
    "    for _ in range(v):\n",
    "        scaled_x.append(i)\n",
    "        scaled_y.append(j)\n",
    "scaled_x = np.array(scaled_x)\n",
    "scaled_y = np.array(scaled_y)\n",
    "print(scaled_x.shape)"
   ]
  },
  {
   "cell_type": "code",
   "execution_count": 11,
   "metadata": {},
   "outputs": [],
   "source": [
    "# define my own scorer\n",
    "def scorer(y, y_pred):\n",
    "    return -np.sum(np.abs(y - y_pred) / y) / len(y)"
   ]
  },
  {
   "cell_type": "code",
   "execution_count": 12,
   "metadata": {},
   "outputs": [],
   "source": [
    "# define my own error function\n",
    "def mae(y_true, y_pred):\n",
    "    grad = np.tanh(y_pred - y_true)\n",
    "    hess = 1 - grad * grad\n",
    "    return grad, hess"
   ]
  },
  {
   "cell_type": "code",
   "execution_count": 13,
   "metadata": {},
   "outputs": [],
   "source": [
    "# specify parameters\n",
    "params_xgbr = {\n",
    "    'objective': mae\n",
    "}\n",
    "params_cv = {\n",
    "    'max_depth': [6],\n",
    "    'learning_rate': [0.1, 0.5, 1],\n",
    "    'n_estimators': [100, 500, 1000],\n",
    "    'verbosity': [2],\n",
    "    'booster': ['gbtree', 'dart'],\n",
    "    'n_jobs': [8],\n",
    "    'subsample': [0.5, 0.75]\n",
    "}"
   ]
  },
  {
   "cell_type": "code",
   "execution_count": 14,
   "metadata": {},
   "outputs": [
    {
     "name": "stdout",
     "output_type": "stream",
     "text": [
      "Fitting 3 folds for each of 36 candidates, totalling 108 fits\n"
     ]
    },
    {
     "name": "stderr",
     "output_type": "stream",
     "text": [
      "[Parallel(n_jobs=4)]: Using backend LokyBackend with 4 concurrent workers.\n",
      "[Parallel(n_jobs=4)]: Done   1 tasks      | elapsed:    9.1s\n",
      "[Parallel(n_jobs=4)]: Done   2 tasks      | elapsed:   16.5s\n",
      "[Parallel(n_jobs=4)]: Done   3 tasks      | elapsed:   22.2s\n",
      "[Parallel(n_jobs=4)]: Done   4 tasks      | elapsed:   30.0s\n",
      "[Parallel(n_jobs=4)]: Done   5 tasks      | elapsed:   34.9s\n",
      "[Parallel(n_jobs=4)]: Done   6 tasks      | elapsed:   36.9s\n",
      "[Parallel(n_jobs=4)]: Done   7 tasks      | elapsed:  3.5min\n",
      "[Parallel(n_jobs=4)]: Done   8 tasks      | elapsed:  3.5min\n",
      "[Parallel(n_jobs=4)]: Done   9 tasks      | elapsed:  3.8min\n",
      "[Parallel(n_jobs=4)]: Done  10 tasks      | elapsed:  3.8min\n",
      "[Parallel(n_jobs=4)]: Done  11 tasks      | elapsed:  4.0min\n",
      "[Parallel(n_jobs=4)]: Done  12 tasks      | elapsed:  5.8min\n",
      "[Parallel(n_jobs=4)]: Done  13 tasks      | elapsed: 10.1min\n",
      "[Parallel(n_jobs=4)]: Done  14 tasks      | elapsed: 10.3min\n",
      "[Parallel(n_jobs=4)]: Done  15 tasks      | elapsed: 10.6min\n",
      "[Parallel(n_jobs=4)]: Done  16 tasks      | elapsed: 11.1min\n",
      "[Parallel(n_jobs=4)]: Done  17 tasks      | elapsed: 11.7min\n",
      "[Parallel(n_jobs=4)]: Done  18 tasks      | elapsed: 11.9min\n",
      "[Parallel(n_jobs=4)]: Done  19 tasks      | elapsed: 12.3min\n",
      "[Parallel(n_jobs=4)]: Done  20 tasks      | elapsed: 12.3min\n",
      "[Parallel(n_jobs=4)]: Done  21 tasks      | elapsed: 12.6min\n",
      "[Parallel(n_jobs=4)]: Done  22 tasks      | elapsed: 13.0min\n",
      "[Parallel(n_jobs=4)]: Done  23 tasks      | elapsed: 13.0min\n",
      "[Parallel(n_jobs=4)]: Done  24 tasks      | elapsed: 15.6min\n",
      "[Parallel(n_jobs=4)]: Done  25 tasks      | elapsed: 16.2min\n",
      "[Parallel(n_jobs=4)]: Done  26 tasks      | elapsed: 16.2min\n",
      "[Parallel(n_jobs=4)]: Done  27 tasks      | elapsed: 16.3min\n",
      "[Parallel(n_jobs=4)]: Done  28 tasks      | elapsed: 19.4min\n",
      "[Parallel(n_jobs=4)]: Done  29 tasks      | elapsed: 19.8min\n",
      "[Parallel(n_jobs=4)]: Done  30 tasks      | elapsed: 19.9min\n",
      "[Parallel(n_jobs=4)]: Done  31 tasks      | elapsed: 22.7min\n",
      "[Parallel(n_jobs=4)]: Done  32 tasks      | elapsed: 25.9min\n",
      "[Parallel(n_jobs=4)]: Done  33 tasks      | elapsed: 26.3min\n",
      "[Parallel(n_jobs=4)]: Done  34 tasks      | elapsed: 26.7min\n",
      "[Parallel(n_jobs=4)]: Done  35 tasks      | elapsed: 27.2min\n",
      "[Parallel(n_jobs=4)]: Done  36 tasks      | elapsed: 27.6min\n",
      "[Parallel(n_jobs=4)]: Done  37 tasks      | elapsed: 27.7min\n",
      "[Parallel(n_jobs=4)]: Done  38 tasks      | elapsed: 28.2min\n",
      "[Parallel(n_jobs=4)]: Done  39 tasks      | elapsed: 28.3min\n",
      "[Parallel(n_jobs=4)]: Done  40 tasks      | elapsed: 28.8min\n",
      "[Parallel(n_jobs=4)]: Done  41 tasks      | elapsed: 30.2min\n",
      "[Parallel(n_jobs=4)]: Done  42 tasks      | elapsed: 30.5min\n",
      "[Parallel(n_jobs=4)]: Done  43 tasks      | elapsed: 31.3min\n",
      "[Parallel(n_jobs=4)]: Done  44 tasks      | elapsed: 32.8min\n",
      "[Parallel(n_jobs=4)]: Done  45 tasks      | elapsed: 33.3min\n",
      "[Parallel(n_jobs=4)]: Done  46 tasks      | elapsed: 33.4min\n",
      "[Parallel(n_jobs=4)]: Done  47 tasks      | elapsed: 34.2min\n",
      "[Parallel(n_jobs=4)]: Done  48 tasks      | elapsed: 35.7min\n",
      "[Parallel(n_jobs=4)]: Done  49 tasks      | elapsed: 37.8min\n",
      "[Parallel(n_jobs=4)]: Done  50 tasks      | elapsed: 38.0min\n",
      "[Parallel(n_jobs=4)]: Done  51 tasks      | elapsed: 39.0min\n",
      "[Parallel(n_jobs=4)]: Done  52 tasks      | elapsed: 39.7min\n",
      "[Parallel(n_jobs=4)]: Done  53 tasks      | elapsed: 40.5min\n",
      "[Parallel(n_jobs=4)]: Done  54 tasks      | elapsed: 41.2min\n",
      "[Parallel(n_jobs=4)]: Done  55 tasks      | elapsed: 41.2min\n",
      "[Parallel(n_jobs=4)]: Done  56 tasks      | elapsed: 41.5min\n",
      "[Parallel(n_jobs=4)]: Done  57 tasks      | elapsed: 41.5min\n",
      "[Parallel(n_jobs=4)]: Done  58 tasks      | elapsed: 41.7min\n",
      "[Parallel(n_jobs=4)]: Done  59 tasks      | elapsed: 43.1min\n",
      "[Parallel(n_jobs=4)]: Done  60 tasks      | elapsed: 43.4min\n",
      "[Parallel(n_jobs=4)]: Done  61 tasks      | elapsed: 44.6min\n",
      "[Parallel(n_jobs=4)]: Done  62 tasks      | elapsed: 45.8min\n",
      "[Parallel(n_jobs=4)]: Done  63 tasks      | elapsed: 46.2min\n",
      "[Parallel(n_jobs=4)]: Done  64 tasks      | elapsed: 46.5min\n",
      "[Parallel(n_jobs=4)]: Done  65 tasks      | elapsed: 47.0min\n",
      "[Parallel(n_jobs=4)]: Done  66 tasks      | elapsed: 47.5min\n",
      "[Parallel(n_jobs=4)]: Done  67 tasks      | elapsed: 50.3min\n",
      "[Parallel(n_jobs=4)]: Done  68 tasks      | elapsed: 53.1min\n",
      "[Parallel(n_jobs=4)]: Done  69 tasks      | elapsed: 55.8min\n",
      "[Parallel(n_jobs=4)]: Done  70 tasks      | elapsed: 56.6min\n",
      "[Parallel(n_jobs=4)]: Done  71 tasks      | elapsed: 57.4min\n",
      "[Parallel(n_jobs=4)]: Done  72 tasks      | elapsed: 58.0min\n",
      "[Parallel(n_jobs=4)]: Done  73 tasks      | elapsed: 58.2min\n",
      "[Parallel(n_jobs=4)]: Done  74 tasks      | elapsed: 58.2min\n",
      "[Parallel(n_jobs=4)]: Done  75 tasks      | elapsed: 58.3min\n",
      "[Parallel(n_jobs=4)]: Done  76 tasks      | elapsed: 58.8min\n",
      "[Parallel(n_jobs=4)]: Done  77 tasks      | elapsed: 59.0min\n",
      "[Parallel(n_jobs=4)]: Done  78 tasks      | elapsed: 59.0min\n",
      "[Parallel(n_jobs=4)]: Done  79 tasks      | elapsed: 63.1min\n",
      "[Parallel(n_jobs=4)]: Done  80 tasks      | elapsed: 63.6min\n",
      "[Parallel(n_jobs=4)]: Done  81 tasks      | elapsed: 63.8min\n",
      "[Parallel(n_jobs=4)]: Done  82 tasks      | elapsed: 64.1min\n",
      "[Parallel(n_jobs=4)]: Done  83 tasks      | elapsed: 68.2min\n",
      "[Parallel(n_jobs=4)]: Done  84 tasks      | elapsed: 68.9min\n",
      "[Parallel(n_jobs=4)]: Done  85 tasks      | elapsed: 76.1min\n",
      "[Parallel(n_jobs=4)]: Done  86 tasks      | elapsed: 76.5min\n",
      "[Parallel(n_jobs=4)]: Done  87 tasks      | elapsed: 81.0min\n",
      "[Parallel(n_jobs=4)]: Done  88 tasks      | elapsed: 81.8min\n",
      "[Parallel(n_jobs=4)]: Done  89 tasks      | elapsed: 82.2min\n",
      "[Parallel(n_jobs=4)]: Done  90 tasks      | elapsed: 82.5min\n",
      "[Parallel(n_jobs=4)]: Done  91 tasks      | elapsed: 82.9min\n",
      "[Parallel(n_jobs=4)]: Done  92 tasks      | elapsed: 83.3min\n",
      "[Parallel(n_jobs=4)]: Done  93 tasks      | elapsed: 83.8min\n",
      "[Parallel(n_jobs=4)]: Done  94 tasks      | elapsed: 84.1min\n",
      "[Parallel(n_jobs=4)]: Done  95 tasks      | elapsed: 88.1min\n",
      "[Parallel(n_jobs=4)]: Done  96 tasks      | elapsed: 88.5min\n",
      "[Parallel(n_jobs=4)]: Done  97 tasks      | elapsed: 89.3min\n",
      "[Parallel(n_jobs=4)]: Done  98 tasks      | elapsed: 90.4min\n",
      "[Parallel(n_jobs=4)]: Done  99 tasks      | elapsed: 91.9min\n",
      "[Parallel(n_jobs=4)]: Done 100 tasks      | elapsed: 92.6min\n",
      "[Parallel(n_jobs=4)]: Done 101 tasks      | elapsed: 93.7min\n",
      "[Parallel(n_jobs=4)]: Done 108 out of 108 | elapsed: 109.5min finished\n",
      "/home/student/07/b07902047/python-packages/xgboost/lib/python3.7/site-packages/xgboost/core.py:613: UserWarning: Use subset (sliced data) of np.ndarray is not recommended because it will generate extra copies and increase memory consumption\n",
      "  warnings.warn(\"Use subset (sliced data) of np.ndarray is not recommended \" +\n"
     ]
    },
    {
     "data": {
      "text/plain": [
       "GridSearchCV(cv=3, error_score='raise-deprecating',\n",
       "       estimator=XGBRegressor(base_score=0.5, booster='gbtree', colsample_bylevel=1,\n",
       "       colsample_bytree=1, gamma=0, importance_type='gain',\n",
       "       learning_rate=0.1, max_delta_step=0, max_depth=3,\n",
       "       min_child_weight=1, missing=None, n_estimators=100, n_jobs=1,\n",
       "       nthread=None, objective=<function mae at 0x7f77e768c048>,\n",
       "       random_state=0, reg_alpha=0, reg_lambda=1, scale_pos_weight=1,\n",
       "       seed=None, silent=True, subsample=1),\n",
       "       fit_params=None, iid='warn', n_jobs=4,\n",
       "       param_grid={'max_depth': [6], 'learning_rate': [0.1, 0.5, 1], 'n_estimators': [100, 500, 1000], 'verbosity': [2], 'booster': ['gbtree', 'dart'], 'n_jobs': [8], 'subsample': [0.5, 0.75]},\n",
       "       pre_dispatch='2*n_jobs', refit=True, return_train_score=True,\n",
       "       scoring=make_scorer(scorer), verbose=20)"
      ]
     },
     "execution_count": 14,
     "metadata": {},
     "output_type": "execute_result"
    }
   ],
   "source": [
    "# create XGBRegressor\n",
    "model = GridSearchCV(estimator=XGBRegressor(**params_xgbr),\n",
    "                     param_grid=params_cv, \n",
    "                     scoring=make_scorer(scorer),\n",
    "                     cv=3,\n",
    "                     verbose=20,\n",
    "                     n_jobs=4,\n",
    "                     return_train_score=True)\n",
    "model.fit(train_x, train_y)"
   ]
  },
  {
   "cell_type": "code",
   "execution_count": 15,
   "metadata": {},
   "outputs": [
    {
     "name": "stdout",
     "output_type": "stream",
     "text": [
      "err2: 11.898986466565901\n",
      "err1: 1199.9759230280029\n",
      "params: {'booster': 'dart', 'learning_rate': 0.1, 'max_depth': 6, 'n_estimators': 1000, 'n_jobs': 8, 'subsample': 0.5, 'verbosity': 2}\n",
      "best scores: -0.21755768552256516\n"
     ]
    }
   ],
   "source": [
    "print(\"err2:\", err2_calc(model.predict(train_x), train_y))\n",
    "print(\"err1:\", err1_calc(model.predict(train_x), train_y, y_id))\n",
    "print(\"params:\", model.best_params_)\n",
    "print(\"best scores:\", model.best_score_)"
   ]
  },
  {
   "cell_type": "code",
   "execution_count": 19,
   "metadata": {},
   "outputs": [
    {
     "name": "stdout",
     "output_type": "stream",
     "text": [
      "YA\n"
     ]
    }
   ],
   "source": [
    "print(\"YA\")"
   ]
  },
  {
   "cell_type": "code",
   "execution_count": 17,
   "metadata": {},
   "outputs": [
    {
     "name": "stdout",
     "output_type": "stream",
     "text": [
      "Fitting 3 folds for each of 36 candidates, totalling 108 fits\n"
     ]
    },
    {
     "name": "stderr",
     "output_type": "stream",
     "text": [
      "[Parallel(n_jobs=4)]: Using backend LokyBackend with 4 concurrent workers.\n",
      "[Parallel(n_jobs=4)]: Done   1 tasks      | elapsed:    9.0s\n",
      "[Parallel(n_jobs=4)]: Done   2 tasks      | elapsed:   10.8s\n",
      "[Parallel(n_jobs=4)]: Done   3 tasks      | elapsed:   11.1s\n",
      "[Parallel(n_jobs=4)]: Done   4 tasks      | elapsed:   17.6s\n",
      "[Parallel(n_jobs=4)]: Done   5 tasks      | elapsed:   25.1s\n",
      "[Parallel(n_jobs=4)]: Done   6 tasks      | elapsed:   27.6s\n",
      "[Parallel(n_jobs=4)]: Done   7 tasks      | elapsed:   57.5s\n",
      "[Parallel(n_jobs=4)]: Done   8 tasks      | elapsed:  1.1min\n",
      "[Parallel(n_jobs=4)]: Done   9 tasks      | elapsed:  4.0min\n",
      "[Parallel(n_jobs=4)]: Done  10 tasks      | elapsed:  4.8min\n",
      "[Parallel(n_jobs=4)]: Done  11 tasks      | elapsed:  5.3min\n",
      "[Parallel(n_jobs=4)]: Done  12 tasks      | elapsed:  5.4min\n",
      "[Parallel(n_jobs=4)]: Done  13 tasks      | elapsed:  6.1min\n",
      "[Parallel(n_jobs=4)]: Done  14 tasks      | elapsed:  6.7min\n",
      "[Parallel(n_jobs=4)]: Done  15 tasks      | elapsed: 12.4min\n",
      "[Parallel(n_jobs=4)]: Done  16 tasks      | elapsed: 13.3min\n",
      "[Parallel(n_jobs=4)]: Done  17 tasks      | elapsed: 14.2min\n",
      "[Parallel(n_jobs=4)]: Done  18 tasks      | elapsed: 14.9min\n",
      "[Parallel(n_jobs=4)]: Done  19 tasks      | elapsed: 14.9min\n",
      "[Parallel(n_jobs=4)]: Done  20 tasks      | elapsed: 15.5min\n",
      "[Parallel(n_jobs=4)]: Done  21 tasks      | elapsed: 15.9min\n",
      "[Parallel(n_jobs=4)]: Done  22 tasks      | elapsed: 16.0min\n",
      "[Parallel(n_jobs=4)]: Done  23 tasks      | elapsed: 16.2min\n",
      "[Parallel(n_jobs=4)]: Done  24 tasks      | elapsed: 16.4min\n",
      "[Parallel(n_jobs=4)]: Done  25 tasks      | elapsed: 20.3min\n",
      "[Parallel(n_jobs=4)]: Done  26 tasks      | elapsed: 20.3min\n",
      "[Parallel(n_jobs=4)]: Done  27 tasks      | elapsed: 20.4min\n",
      "[Parallel(n_jobs=4)]: Done  28 tasks      | elapsed: 21.4min\n",
      "[Parallel(n_jobs=4)]: Done  29 tasks      | elapsed: 25.4min\n",
      "[Parallel(n_jobs=4)]: Done  30 tasks      | elapsed: 25.4min\n",
      "[Parallel(n_jobs=4)]: Done  31 tasks      | elapsed: 29.4min\n",
      "[Parallel(n_jobs=4)]: Done  32 tasks      | elapsed: 30.0min\n",
      "[Parallel(n_jobs=4)]: Done  33 tasks      | elapsed: 33.9min\n",
      "[Parallel(n_jobs=4)]: Done  34 tasks      | elapsed: 34.7min\n",
      "[Parallel(n_jobs=4)]: Done  35 tasks      | elapsed: 35.4min\n",
      "[Parallel(n_jobs=4)]: Done  36 tasks      | elapsed: 35.6min\n",
      "[Parallel(n_jobs=4)]: Done  37 tasks      | elapsed: 36.2min\n",
      "[Parallel(n_jobs=4)]: Done  38 tasks      | elapsed: 36.4min\n",
      "[Parallel(n_jobs=4)]: Done  39 tasks      | elapsed: 37.0min\n",
      "[Parallel(n_jobs=4)]: Done  40 tasks      | elapsed: 37.1min\n",
      "[Parallel(n_jobs=4)]: Done  41 tasks      | elapsed: 39.7min\n",
      "[Parallel(n_jobs=4)]: Done  42 tasks      | elapsed: 39.7min\n",
      "[Parallel(n_jobs=4)]: Done  43 tasks      | elapsed: 40.1min\n",
      "[Parallel(n_jobs=4)]: Done  44 tasks      | elapsed: 40.1min\n",
      "[Parallel(n_jobs=4)]: Done  45 tasks      | elapsed: 42.5min\n",
      "[Parallel(n_jobs=4)]: Done  46 tasks      | elapsed: 42.6min\n",
      "[Parallel(n_jobs=4)]: Done  47 tasks      | elapsed: 42.7min\n",
      "[Parallel(n_jobs=4)]: Done  48 tasks      | elapsed: 43.4min\n",
      "[Parallel(n_jobs=4)]: Done  49 tasks      | elapsed: 47.3min\n",
      "[Parallel(n_jobs=4)]: Done  50 tasks      | elapsed: 48.2min\n",
      "[Parallel(n_jobs=4)]: Done  51 tasks      | elapsed: 48.2min\n",
      "[Parallel(n_jobs=4)]: Done  52 tasks      | elapsed: 48.3min\n",
      "[Parallel(n_jobs=4)]: Done  53 tasks      | elapsed: 48.8min\n",
      "[Parallel(n_jobs=4)]: Done  54 tasks      | elapsed: 48.8min\n",
      "[Parallel(n_jobs=4)]: Done  55 tasks      | elapsed: 49.2min\n",
      "[Parallel(n_jobs=4)]: Done  56 tasks      | elapsed: 49.2min\n",
      "[Parallel(n_jobs=4)]: Done  57 tasks      | elapsed: 49.7min\n",
      "[Parallel(n_jobs=4)]: Done  58 tasks      | elapsed: 49.7min\n",
      "[Parallel(n_jobs=4)]: Done  59 tasks      | elapsed: 52.9min\n",
      "[Parallel(n_jobs=4)]: Done  60 tasks      | elapsed: 53.2min\n",
      "[Parallel(n_jobs=4)]: Done  61 tasks      | elapsed: 55.4min\n",
      "[Parallel(n_jobs=4)]: Done  62 tasks      | elapsed: 55.5min\n",
      "[Parallel(n_jobs=4)]: Done  63 tasks      | elapsed: 58.7min\n",
      "[Parallel(n_jobs=4)]: Done  64 tasks      | elapsed: 59.6min\n",
      "[Parallel(n_jobs=4)]: Done  65 tasks      | elapsed: 61.7min\n",
      "[Parallel(n_jobs=4)]: Done  66 tasks      | elapsed: 61.9min\n",
      "[Parallel(n_jobs=4)]: Done  67 tasks      | elapsed: 74.4min\n",
      "[Parallel(n_jobs=4)]: Done  68 tasks      | elapsed: 75.3min\n",
      "[Parallel(n_jobs=4)]: Done  69 tasks      | elapsed: 77.6min\n",
      "[Parallel(n_jobs=4)]: Done  70 tasks      | elapsed: 78.7min\n",
      "[Parallel(n_jobs=4)]: Done  71 tasks      | elapsed: 79.0min\n",
      "[Parallel(n_jobs=4)]: Done  72 tasks      | elapsed: 79.7min\n",
      "[Parallel(n_jobs=4)]: Done  73 tasks      | elapsed: 80.1min\n",
      "[Parallel(n_jobs=4)]: Done  74 tasks      | elapsed: 80.9min\n",
      "[Parallel(n_jobs=4)]: Done  75 tasks      | elapsed: 81.4min\n",
      "[Parallel(n_jobs=4)]: Done  76 tasks      | elapsed: 82.1min\n",
      "[Parallel(n_jobs=4)]: Done  77 tasks      | elapsed: 88.5min\n",
      "[Parallel(n_jobs=4)]: Done  78 tasks      | elapsed: 89.0min\n",
      "[Parallel(n_jobs=4)]: Done  79 tasks      | elapsed: 91.8min\n",
      "[Parallel(n_jobs=4)]: Done  80 tasks      | elapsed: 92.9min\n",
      "[Parallel(n_jobs=4)]: Done  81 tasks      | elapsed: 95.8min\n",
      "[Parallel(n_jobs=4)]: Done  82 tasks      | elapsed: 96.6min\n",
      "[Parallel(n_jobs=4)]: Done  83 tasks      | elapsed: 99.3min\n",
      "[Parallel(n_jobs=4)]: Done  84 tasks      | elapsed: 100.1min\n",
      "[Parallel(n_jobs=4)]: Done  85 tasks      | elapsed: 112.4min\n",
      "[Parallel(n_jobs=4)]: Done  86 tasks      | elapsed: 113.0min\n",
      "[Parallel(n_jobs=4)]: Done  87 tasks      | elapsed: 116.5min\n",
      "[Parallel(n_jobs=4)]: Done  88 tasks      | elapsed: 117.1min\n",
      "[Parallel(n_jobs=4)]: Done  89 tasks      | elapsed: 117.8min\n",
      "[Parallel(n_jobs=4)]: Done  90 tasks      | elapsed: 118.1min\n",
      "[Parallel(n_jobs=4)]: Done  91 tasks      | elapsed: 118.8min\n",
      "[Parallel(n_jobs=4)]: Done  92 tasks      | elapsed: 119.2min\n",
      "[Parallel(n_jobs=4)]: Done  93 tasks      | elapsed: 119.9min\n",
      "[Parallel(n_jobs=4)]: Done  94 tasks      | elapsed: 120.2min\n",
      "[Parallel(n_jobs=4)]: Done  95 tasks      | elapsed: 124.1min\n",
      "[Parallel(n_jobs=4)]: Done  96 tasks      | elapsed: 124.1min\n",
      "[Parallel(n_jobs=4)]: Done  97 tasks      | elapsed: 128.6min\n",
      "[Parallel(n_jobs=4)]: Done  98 tasks      | elapsed: 129.8min\n",
      "[Parallel(n_jobs=4)]: Done  99 tasks      | elapsed: 129.8min\n",
      "[Parallel(n_jobs=4)]: Done 100 tasks      | elapsed: 130.0min\n",
      "[Parallel(n_jobs=4)]: Done 101 tasks      | elapsed: 133.5min\n",
      "[Parallel(n_jobs=4)]: Done 108 out of 108 | elapsed: 148.8min finished\n"
     ]
    },
    {
     "data": {
      "text/plain": [
       "GridSearchCV(cv=3, error_score='raise-deprecating',\n",
       "       estimator=XGBRegressor(base_score=0.5, booster='gbtree', colsample_bylevel=1,\n",
       "       colsample_bytree=1, gamma=0, importance_type='gain',\n",
       "       learning_rate=0.1, max_delta_step=0, max_depth=3,\n",
       "       min_child_weight=1, missing=None, n_estimators=100, n_jobs=1,\n",
       "       nthread=None, objective=<function mae at 0x7f77e768c048>,\n",
       "       random_state=0, reg_alpha=0, reg_lambda=1, scale_pos_weight=1,\n",
       "       seed=None, silent=True, subsample=1),\n",
       "       fit_params=None, iid='warn', n_jobs=4,\n",
       "       param_grid={'max_depth': [6], 'learning_rate': [0.1, 0.5, 1], 'n_estimators': [100, 500, 1000], 'verbosity': [2], 'booster': ['gbtree', 'dart'], 'n_jobs': [8], 'subsample': [0.5, 0.75]},\n",
       "       pre_dispatch='2*n_jobs', refit=True, return_train_score=True,\n",
       "       scoring=make_scorer(scorer), verbose=20)"
      ]
     },
     "execution_count": 17,
     "metadata": {},
     "output_type": "execute_result"
    }
   ],
   "source": [
    "# create XGBRegressor\n",
    "model2 = GridSearchCV(estimator=XGBRegressor(**params_xgbr),\n",
    "                     param_grid=params_cv, \n",
    "                     scoring=make_scorer(scorer),\n",
    "                     cv=3,\n",
    "                     verbose=20,\n",
    "                     n_jobs=4,\n",
    "                     return_train_score=True)\n",
    "model2.fit(scaled_x, scaled_y)"
   ]
  },
  {
   "cell_type": "code",
   "execution_count": 18,
   "metadata": {},
   "outputs": [
    {
     "name": "stdout",
     "output_type": "stream",
     "text": [
      "err2: 0.14088917272831514\n",
      "err1: 18.40595977864684\n",
      "params: {'booster': 'dart', 'learning_rate': 0.1, 'max_depth': 6, 'n_estimators': 1000, 'n_jobs': 8, 'subsample': 0.75, 'verbosity': 2}\n",
      "best scores: -0.22042361377396208\n"
     ]
    }
   ],
   "source": [
    "print(\"err2:\", err2_calc(model2.predict(train_x), train_y))\n",
    "print(\"err1:\", err1_calc(model2.predict(train_x), train_y, y_id))\n",
    "print(\"params:\", model2.best_params_)\n",
    "print(\"best scores:\", model2.best_score_)"
   ]
  },
  {
   "cell_type": "code",
   "execution_count": 20,
   "metadata": {},
   "outputs": [],
   "source": [
    "# write files\n",
    "write_prediction('train_y' + str(y_id) + '_' + str(track_id) + 'depth=6.txt', 'w', model2.predict(train_x).reshape((47500, 1)).astype('str'))\n",
    "write_prediction('test_y' + str(y_id) + '_' + str(track_id) + 'depth=6.txt', 'w', model2.predict(test_x).reshape((2500, 1)).astype('str'))"
   ]
  },
  {
   "cell_type": "code",
   "execution_count": 22,
   "metadata": {},
   "outputs": [],
   "source": [
    "x = model2.best_estimator_\n",
    "x.save_model('y1_2_depth=6.model')"
   ]
  },
  {
   "cell_type": "code",
   "execution_count": null,
   "metadata": {},
   "outputs": [],
   "source": []
  }
 ],
 "metadata": {
  "kernelspec": {
   "display_name": "Python 3",
   "language": "python",
   "name": "python3"
  },
  "language_info": {
   "codemirror_mode": {
    "name": "ipython",
    "version": 3
   },
   "file_extension": ".py",
   "mimetype": "text/x-python",
   "name": "python",
   "nbconvert_exporter": "python",
   "pygments_lexer": "ipython3",
   "version": "3.7.3"
  }
 },
 "nbformat": 4,
 "nbformat_minor": 2
}
