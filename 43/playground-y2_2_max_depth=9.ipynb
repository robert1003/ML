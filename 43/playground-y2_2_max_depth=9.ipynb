{
 "cells": [
  {
   "cell_type": "code",
   "execution_count": 1,
   "metadata": {},
   "outputs": [],
   "source": [
    "# specify id\n",
    "y_id = 2\n",
    "track_id = 2\n",
    "server = 4"
   ]
  },
  {
   "cell_type": "code",
   "execution_count": 2,
   "metadata": {},
   "outputs": [],
   "source": [
    "# import module\n",
    "import sys\n",
    "sys.path.insert(0, '../')\n",
    "from utils.training_utils import *\n",
    "from sklearn.model_selection import GridSearchCV\n",
    "from sklearn.metrics import mean_absolute_error, make_scorer\n",
    "from sklearn.ensemble import ExtraTreesRegressor\n",
    "from sklearn.ensemble import RandomForestRegressor\n",
    "from xgboost import XGBRegressor\n",
    "import matplotlib.pyplot as plt\n",
    "import pandas as pd"
   ]
  },
  {
   "cell_type": "code",
   "execution_count": 3,
   "metadata": {},
   "outputs": [
    {
     "name": "stdout",
     "output_type": "stream",
     "text": [
      "(2500, 10000) (47500, 10000) (47500,)\n"
     ]
    }
   ],
   "source": [
    "# load datas\n",
    "test_x, train_x, train_y = load_data(y_id)\n",
    "print(test_x.shape, train_x.shape, train_y.shape)"
   ]
  },
  {
   "cell_type": "code",
   "execution_count": 4,
   "metadata": {
    "scrolled": true
   },
   "outputs": [
    {
     "data": {
      "image/png": "[encoded data removed]",
      "text/plain": [
       "<Figure size 432x288 with 1 Axes>"
      ]
     },
     "metadata": {
      "needs_background": "light"
     },
     "output_type": "display_data"
    },
    {
     "data": {
      "image/png": "[encoded data removed]",
      "text/plain": [
       "<Figure size 432x288 with 1 Axes>"
      ]
     },
     "metadata": {
      "needs_background": "light"
     },
     "output_type": "display_data"
    },
    {
     "data": {
      "image/png": "[encoded data removed]",
      "text/plain": [
       "<Figure size 432x288 with 1 Axes>"
      ]
     },
     "metadata": {
      "needs_background": "light"
     },
     "output_type": "display_data"
    },
    {
     "name": "stdout",
     "output_type": "stream",
     "text": [
      "[0.80366996 0.59863587 0.6035146  ... 0.71932249 0.54472429 0.51776807]\n"
     ]
    },
    {
     "data": {
      "text/html": [
       "<div>\n",
       "<style scoped>\n",
       "    .dataframe tbody tr th:only-of-type {\n",
       "        vertical-align: middle;\n",
       "    }\n",
       "\n",
       "    .dataframe tbody tr th {\n",
       "        vertical-align: top;\n",
       "    }\n",
       "\n",
       "    .dataframe thead th {\n",
       "        text-align: right;\n",
       "    }\n",
       "</style>\n",
       "<table border=\"1\" class=\"dataframe\">\n",
       "  <thead>\n",
       "    <tr style=\"text-align: right;\">\n",
       "      <th></th>\n",
       "      <th>0</th>\n",
       "    </tr>\n",
       "  </thead>\n",
       "  <tbody>\n",
       "    <tr>\n",
       "      <th>count</th>\n",
       "      <td>47500.000000</td>\n",
       "    </tr>\n",
       "    <tr>\n",
       "      <th>mean</th>\n",
       "      <td>0.749719</td>\n",
       "    </tr>\n",
       "    <tr>\n",
       "      <th>std</th>\n",
       "      <td>0.143919</td>\n",
       "    </tr>\n",
       "    <tr>\n",
       "      <th>min</th>\n",
       "      <td>0.500035</td>\n",
       "    </tr>\n",
       "    <tr>\n",
       "      <th>25%</th>\n",
       "      <td>0.624887</td>\n",
       "    </tr>\n",
       "    <tr>\n",
       "      <th>50%</th>\n",
       "      <td>0.751707</td>\n",
       "    </tr>\n",
       "    <tr>\n",
       "      <th>75%</th>\n",
       "      <td>0.873909</td>\n",
       "    </tr>\n",
       "    <tr>\n",
       "      <th>max</th>\n",
       "      <td>0.999896</td>\n",
       "    </tr>\n",
       "  </tbody>\n",
       "</table>\n",
       "</div>"
      ],
      "text/plain": [
       "                  0\n",
       "count  47500.000000\n",
       "mean       0.749719\n",
       "std        0.143919\n",
       "min        0.500035\n",
       "25%        0.624887\n",
       "50%        0.751707\n",
       "75%        0.873909\n",
       "max        0.999896"
      ]
     },
     "execution_count": 4,
     "metadata": {},
     "output_type": "execute_result"
    }
   ],
   "source": [
    "# draw distribution of y2\n",
    "plt.boxplot(train_y)\n",
    "plt.show()\n",
    "plt.hist(train_y)\n",
    "plt.show()\n",
    "x = sorted(train_y)\n",
    "plt.plot(x)\n",
    "plt.show()\n",
    "print(train_y)\n",
    "d = pd.DataFrame(train_y)\n",
    "d.describe()"
   ]
  },
  {
   "cell_type": "code",
   "execution_count": 5,
   "metadata": {},
   "outputs": [
    {
     "name": "stdout",
     "output_type": "stream",
     "text": [
      "229\n",
      "(47500, 229)\n"
     ]
    }
   ],
   "source": [
    "# pick only important data\n",
    "idx = {}\n",
    "with open('../29/adaboost' + str(y_id) + '_feature.csv', 'r') as f:\n",
    "    i = 0\n",
    "    for lines in f:\n",
    "        importance = float(lines.replace('\\n', '').split(',')[y_id])\n",
    "        if i not in idx:\n",
    "            idx[i] = 0\n",
    "        idx[i] += importance\n",
    "        i += 1\n",
    "with open('../28/adaboost' + str(y_id) + '_feature.csv', 'r') as f:\n",
    "    i = 0\n",
    "    for lines in f:\n",
    "        importance = float(lines.replace('\\n', '').split(',')[y_id])\n",
    "        if i not in idx:\n",
    "            idx[i] = 0\n",
    "        idx[i] += importance\n",
    "        i += 1\n",
    "\n",
    "with open('../32/adaboost' + str(y_id) + '_feature.csv', 'r') as f:\n",
    "    i = 0\n",
    "    for lines in f:\n",
    "        importance = float(lines.replace('\\n', '').split(',')[y_id])\n",
    "        if i not in idx:\n",
    "            idx[i] = 0\n",
    "        idx[i] += importance\n",
    "        i += 1\n",
    "with open('../35/random_forest' + str(y_id) + '_feature.csv', 'r') as f:\n",
    "    i = 0\n",
    "    for lines in f:\n",
    "        importance = float(lines.replace('\\n', '').split(',')[y_id])\n",
    "        if i not in idx:\n",
    "            idx[i] = 0\n",
    "        idx[i] += importance\n",
    "        i += 1\n",
    "    \n",
    "idxx = [i[0] for i in idx.items() if i[1] > 1e-3]\n",
    "print(len(idxx))\n",
    "train_x = train_x[:, idxx]\n",
    "test_x = test_x[:, idxx]\n",
    "print(train_x.shape)"
   ]
  },
  {
   "cell_type": "code",
   "execution_count": 11,
   "metadata": {},
   "outputs": [
    {
     "name": "stdout",
     "output_type": "stream",
     "text": [
      "95000\n",
      "(95000, 229)\n"
     ]
    }
   ],
   "source": [
    "cnt = 0\n",
    "for i in train_y:\n",
    "    v = int(1 / i + 1)\n",
    "    cnt += v\n",
    "print(cnt)\n",
    "\n",
    "scaled_x = []\n",
    "scaled_y = []\n",
    "for i, j in zip(train_x, train_y):\n",
    "    v = int(1 / j + 1)\n",
    "    for _ in range(v):\n",
    "        scaled_x.append(i)\n",
    "        scaled_y.append(j)\n",
    "scaled_x = np.array(scaled_x)\n",
    "scaled_y = np.array(scaled_y)\n",
    "print(scaled_x.shape)\n"
   ]
  },
  {
   "cell_type": "code",
   "execution_count": 12,
   "metadata": {},
   "outputs": [],
   "source": [
    "# define my own scorer\n",
    "def scorer(y, y_pred):\n",
    "    return -np.sum(np.abs(y - y_pred) / y) / len(y)"
   ]
  },
  {
   "cell_type": "code",
   "execution_count": 13,
   "metadata": {},
   "outputs": [],
   "source": [
    "# define my own error function\n",
    "def mae(y_true, y_pred):\n",
    "    grad = np.tanh(y_pred - y_true)\n",
    "    hess = 1 - grad * grad\n",
    "    return grad, hess"
   ]
  },
  {
   "cell_type": "code",
   "execution_count": 14,
   "metadata": {},
   "outputs": [],
   "source": [
    "# specify parameters\n",
    "params_xgbr = {\n",
    "    'objective': mae\n",
    "}\n",
    "params_cv = {\n",
    "    'max_depth': [9],\n",
    "    'learning_rate': [0.1, 0.5, 1],\n",
    "    'n_estimators': [100, 500, 1000],\n",
    "    'verbosity': [2],\n",
    "    'booster': ['gbtree', 'dart'],\n",
    "    'n_jobs': [8],\n",
    "    'subsample': [0.5, 0.75]\n",
    "}"
   ]
  },
  {
   "cell_type": "code",
   "execution_count": 15,
   "metadata": {},
   "outputs": [
    {
     "name": "stdout",
     "output_type": "stream",
     "text": [
      "Fitting 3 folds for each of 36 candidates, totalling 108 fits\n"
     ]
    },
    {
     "name": "stderr",
     "output_type": "stream",
     "text": [
      "[Parallel(n_jobs=4)]: Using backend LokyBackend with 4 concurrent workers.\n",
      "[Parallel(n_jobs=4)]: Done   1 tasks      | elapsed:   39.0s\n",
      "[Parallel(n_jobs=4)]: Done   2 tasks      | elapsed:   43.3s\n",
      "[Parallel(n_jobs=4)]: Done   3 tasks      | elapsed:   52.6s\n",
      "[Parallel(n_jobs=4)]: Done   4 tasks      | elapsed:   56.7s\n",
      "[Parallel(n_jobs=4)]: Done   5 tasks      | elapsed:  1.6min\n",
      "[Parallel(n_jobs=4)]: Done   6 tasks      | elapsed:  1.7min\n",
      "[Parallel(n_jobs=4)]: Done   7 tasks      | elapsed:  3.9min\n",
      "[Parallel(n_jobs=4)]: Done   8 tasks      | elapsed:  4.3min\n",
      "[Parallel(n_jobs=4)]: Done   9 tasks      | elapsed:  6.5min\n",
      "[Parallel(n_jobs=4)]: Done  10 tasks      | elapsed:  6.6min\n",
      "[Parallel(n_jobs=4)]: Done  11 tasks      | elapsed:  7.4min\n",
      "[Parallel(n_jobs=4)]: Done  12 tasks      | elapsed:  8.0min\n",
      "[Parallel(n_jobs=4)]: Done  13 tasks      | elapsed: 13.4min\n",
      "[Parallel(n_jobs=4)]: Done  14 tasks      | elapsed: 15.1min\n",
      "[Parallel(n_jobs=4)]: Done  15 tasks      | elapsed: 15.3min\n",
      "[Parallel(n_jobs=4)]: Done  16 tasks      | elapsed: 15.5min\n",
      "[Parallel(n_jobs=4)]: Done  17 tasks      | elapsed: 16.4min\n",
      "[Parallel(n_jobs=4)]: Done  18 tasks      | elapsed: 16.5min\n",
      "[Parallel(n_jobs=4)]: Done  19 tasks      | elapsed: 17.5min\n",
      "[Parallel(n_jobs=4)]: Done  20 tasks      | elapsed: 17.5min\n",
      "[Parallel(n_jobs=4)]: Done  21 tasks      | elapsed: 18.5min\n",
      "[Parallel(n_jobs=4)]: Done  22 tasks      | elapsed: 18.5min\n",
      "[Parallel(n_jobs=4)]: Done  23 tasks      | elapsed: 19.9min\n",
      "[Parallel(n_jobs=4)]: Done  24 tasks      | elapsed: 21.8min\n",
      "[Parallel(n_jobs=4)]: Done  25 tasks      | elapsed: 22.0min\n",
      "[Parallel(n_jobs=4)]: Done  26 tasks      | elapsed: 22.3min\n",
      "[Parallel(n_jobs=4)]: Done  27 tasks      | elapsed: 23.8min\n",
      "[Parallel(n_jobs=4)]: Done  28 tasks      | elapsed: 24.4min\n",
      "[Parallel(n_jobs=4)]: Done  29 tasks      | elapsed: 24.7min\n",
      "[Parallel(n_jobs=4)]: Done  30 tasks      | elapsed: 24.8min\n",
      "[Parallel(n_jobs=4)]: Done  31 tasks      | elapsed: 27.5min\n",
      "[Parallel(n_jobs=4)]: Done  32 tasks      | elapsed: 27.5min\n",
      "[Parallel(n_jobs=4)]: Done  33 tasks      | elapsed: 28.3min\n",
      "[Parallel(n_jobs=4)]: Done  34 tasks      | elapsed: 28.9min\n",
      "[Parallel(n_jobs=4)]: Done  35 tasks      | elapsed: 29.2min\n",
      "[Parallel(n_jobs=4)]: Done  36 tasks      | elapsed: 29.7min\n",
      "[Parallel(n_jobs=4)]: Done  37 tasks      | elapsed: 30.0min\n",
      "[Parallel(n_jobs=4)]: Done  38 tasks      | elapsed: 30.1min\n",
      "[Parallel(n_jobs=4)]: Done  39 tasks      | elapsed: 30.6min\n",
      "[Parallel(n_jobs=4)]: Done  40 tasks      | elapsed: 30.8min\n",
      "[Parallel(n_jobs=4)]: Done  41 tasks      | elapsed: 30.9min\n",
      "[Parallel(n_jobs=4)]: Done  42 tasks      | elapsed: 31.0min\n",
      "[Parallel(n_jobs=4)]: Done  43 tasks      | elapsed: 33.8min\n",
      "[Parallel(n_jobs=4)]: Done  44 tasks      | elapsed: 33.9min\n",
      "[Parallel(n_jobs=4)]: Done  45 tasks      | elapsed: 35.0min\n",
      "[Parallel(n_jobs=4)]: Done  46 tasks      | elapsed: 35.3min\n",
      "[Parallel(n_jobs=4)]: Done  47 tasks      | elapsed: 36.0min\n",
      "[Parallel(n_jobs=4)]: Done  48 tasks      | elapsed: 36.6min\n",
      "[Parallel(n_jobs=4)]: Done  49 tasks      | elapsed: 40.0min\n",
      "[Parallel(n_jobs=4)]: Done  50 tasks      | elapsed: 41.4min\n",
      "[Parallel(n_jobs=4)]: Done  51 tasks      | elapsed: 42.3min\n",
      "[Parallel(n_jobs=4)]: Done  52 tasks      | elapsed: 42.6min\n",
      "[Parallel(n_jobs=4)]: Done  53 tasks      | elapsed: 43.2min\n",
      "[Parallel(n_jobs=4)]: Done  54 tasks      | elapsed: 43.3min\n",
      "[Parallel(n_jobs=4)]: Done  55 tasks      | elapsed: 43.4min\n",
      "[Parallel(n_jobs=4)]: Done  56 tasks      | elapsed: 43.8min\n",
      "[Parallel(n_jobs=4)]: Done  57 tasks      | elapsed: 44.1min\n",
      "[Parallel(n_jobs=4)]: Done  58 tasks      | elapsed: 44.4min\n",
      "[Parallel(n_jobs=4)]: Done  59 tasks      | elapsed: 44.4min\n",
      "[Parallel(n_jobs=4)]: Done  60 tasks      | elapsed: 44.6min\n",
      "[Parallel(n_jobs=4)]: Done  61 tasks      | elapsed: 50.3min\n",
      "[Parallel(n_jobs=4)]: Done  62 tasks      | elapsed: 50.6min\n",
      "[Parallel(n_jobs=4)]: Done  63 tasks      | elapsed: 51.0min\n",
      "[Parallel(n_jobs=4)]: Done  64 tasks      | elapsed: 51.0min\n",
      "[Parallel(n_jobs=4)]: Done  65 tasks      | elapsed: 56.7min\n",
      "[Parallel(n_jobs=4)]: Done  66 tasks      | elapsed: 57.2min\n",
      "[Parallel(n_jobs=4)]: Done  67 tasks      | elapsed: 68.6min\n",
      "[Parallel(n_jobs=4)]: Done  68 tasks      | elapsed: 68.9min\n",
      "[Parallel(n_jobs=4)]: Done  69 tasks      | elapsed: 73.2min\n",
      "[Parallel(n_jobs=4)]: Done  70 tasks      | elapsed: 74.1min\n",
      "[Parallel(n_jobs=4)]: Done  71 tasks      | elapsed: 74.4min\n",
      "[Parallel(n_jobs=4)]: Done  72 tasks      | elapsed: 74.9min\n",
      "[Parallel(n_jobs=4)]: Done  73 tasks      | elapsed: 75.2min\n",
      "[Parallel(n_jobs=4)]: Done  74 tasks      | elapsed: 75.8min\n",
      "[Parallel(n_jobs=4)]: Done  75 tasks      | elapsed: 76.0min\n",
      "[Parallel(n_jobs=4)]: Done  76 tasks      | elapsed: 76.8min\n",
      "[Parallel(n_jobs=4)]: Done  77 tasks      | elapsed: 80.9min\n",
      "[Parallel(n_jobs=4)]: Done  78 tasks      | elapsed: 82.5min\n",
      "[Parallel(n_jobs=4)]: Done  79 tasks      | elapsed: 85.8min\n",
      "[Parallel(n_jobs=4)]: Done  80 tasks      | elapsed: 86.7min\n",
      "[Parallel(n_jobs=4)]: Done  81 tasks      | elapsed: 86.9min\n",
      "[Parallel(n_jobs=4)]: Done  82 tasks      | elapsed: 87.4min\n",
      "[Parallel(n_jobs=4)]: Done  83 tasks      | elapsed: 90.0min\n",
      "[Parallel(n_jobs=4)]: Done  84 tasks      | elapsed: 91.2min\n",
      "[Parallel(n_jobs=4)]: Done  85 tasks      | elapsed: 97.1min\n",
      "[Parallel(n_jobs=4)]: Done  86 tasks      | elapsed: 97.5min\n",
      "[Parallel(n_jobs=4)]: Done  87 tasks      | elapsed: 99.6min\n",
      "[Parallel(n_jobs=4)]: Done  88 tasks      | elapsed: 99.7min\n",
      "[Parallel(n_jobs=4)]: Done  89 tasks      | elapsed: 100.4min\n",
      "[Parallel(n_jobs=4)]: Done  90 tasks      | elapsed: 100.6min\n",
      "[Parallel(n_jobs=4)]: Done  91 tasks      | elapsed: 101.2min\n",
      "[Parallel(n_jobs=4)]: Done  92 tasks      | elapsed: 101.7min\n",
      "[Parallel(n_jobs=4)]: Done  93 tasks      | elapsed: 102.1min\n",
      "[Parallel(n_jobs=4)]: Done  94 tasks      | elapsed: 102.8min\n",
      "[Parallel(n_jobs=4)]: Done  95 tasks      | elapsed: 105.2min\n",
      "[Parallel(n_jobs=4)]: Done  96 tasks      | elapsed: 105.4min\n",
      "[Parallel(n_jobs=4)]: Done  97 tasks      | elapsed: 107.9min\n",
      "[Parallel(n_jobs=4)]: Done  98 tasks      | elapsed: 109.3min\n",
      "[Parallel(n_jobs=4)]: Done  99 tasks      | elapsed: 109.7min\n",
      "[Parallel(n_jobs=4)]: Done 100 tasks      | elapsed: 111.8min\n",
      "[Parallel(n_jobs=4)]: Done 101 tasks      | elapsed: 111.8min\n",
      "[Parallel(n_jobs=4)]: Done 108 out of 108 | elapsed: 132.0min finished\n",
      "/home/student/07/b07902047/python-packages/xgboost/lib/python3.7/site-packages/xgboost/core.py:613: UserWarning: Use subset (sliced data) of np.ndarray is not recommended because it will generate extra copies and increase memory consumption\n",
      "  warnings.warn(\"Use subset (sliced data) of np.ndarray is not recommended \" +\n"
     ]
    },
    {
     "data": {
      "text/plain": [
       "GridSearchCV(cv=3, error_score='raise-deprecating',\n",
       "       estimator=XGBRegressor(base_score=0.5, booster='gbtree', colsample_bylevel=1,\n",
       "       colsample_bytree=1, gamma=0, importance_type='gain',\n",
       "       learning_rate=0.1, max_delta_step=0, max_depth=3,\n",
       "       min_child_weight=1, missing=None, n_estimators=100, n_jobs=1,\n",
       "       nthread=None, objective=<function mae at 0x7f3efb51a048>,\n",
       "       random_state=0, reg_alpha=0, reg_lambda=1, scale_pos_weight=1,\n",
       "       seed=None, silent=True, subsample=1),\n",
       "       fit_params=None, iid='warn', n_jobs=4,\n",
       "       param_grid={'max_depth': [9], 'learning_rate': [0.1, 0.5, 1], 'n_estimators': [100, 500, 1000], 'verbosity': [2], 'booster': ['gbtree', 'dart'], 'n_jobs': [8], 'subsample': [0.5, 0.75]},\n",
       "       pre_dispatch='2*n_jobs', refit=True, return_train_score=True,\n",
       "       scoring=make_scorer(scorer), verbose=20)"
      ]
     },
     "execution_count": 15,
     "metadata": {},
     "output_type": "execute_result"
    }
   ],
   "source": [
    "# create XGBRegressor\n",
    "model = GridSearchCV(estimator=XGBRegressor(**params_xgbr),\n",
    "                     param_grid=params_cv, \n",
    "                     scoring=make_scorer(scorer),\n",
    "                     cv=3,\n",
    "                     verbose=20,\n",
    "                     n_jobs=4,\n",
    "                     return_train_score=True)\n",
    "model.fit(train_x, train_y)"
   ]
  },
  {
   "cell_type": "code",
   "execution_count": 16,
   "metadata": {
    "scrolled": true
   },
   "outputs": [
    {
     "name": "stdout",
     "output_type": "stream",
     "text": [
      "err2: 0.000807980341766195\n",
      "err1: 0.17609408850661176\n",
      "params: {'booster': 'gbtree', 'learning_rate': 0.1, 'max_depth': 9, 'n_estimators': 1000, 'n_jobs': 8, 'subsample': 0.75, 'verbosity': 2}\n",
      "best scores: -0.00853544967525064\n"
     ]
    }
   ],
   "source": [
    "print(\"err2:\", err2_calc(model.predict(train_x), train_y))\n",
    "print(\"err1:\", err1_calc(model.predict(train_x), train_y, y_id))\n",
    "print(\"params:\", model.best_params_)\n",
    "print(\"best scores:\", model.best_score_)"
   ]
  },
  {
   "cell_type": "code",
   "execution_count": 19,
   "metadata": {},
   "outputs": [
    {
     "name": "stdout",
     "output_type": "stream",
     "text": [
      "YA\n"
     ]
    }
   ],
   "source": [
    "print(\"YA\")"
   ]
  },
  {
   "cell_type": "code",
   "execution_count": 20,
   "metadata": {},
   "outputs": [
    {
     "name": "stdout",
     "output_type": "stream",
     "text": [
      "Fitting 3 folds for each of 36 candidates, totalling 108 fits\n"
     ]
    },
    {
     "name": "stderr",
     "output_type": "stream",
     "text": [
      "[Parallel(n_jobs=4)]: Using backend LokyBackend with 4 concurrent workers.\n",
      "[Parallel(n_jobs=4)]: Done   1 tasks      | elapsed:  1.1min\n",
      "[Parallel(n_jobs=4)]: Done   2 tasks      | elapsed:  1.3min\n",
      "[Parallel(n_jobs=4)]: Done   3 tasks      | elapsed:  1.4min\n",
      "[Parallel(n_jobs=4)]: Done   4 tasks      | elapsed:  1.4min\n",
      "[Parallel(n_jobs=4)]: Done   5 tasks      | elapsed:  2.2min\n",
      "[Parallel(n_jobs=4)]: Done   6 tasks      | elapsed:  2.4min\n",
      "[Parallel(n_jobs=4)]: Done   7 tasks      | elapsed:  7.0min\n",
      "[Parallel(n_jobs=4)]: Done   8 tasks      | elapsed:  8.0min\n",
      "[Parallel(n_jobs=4)]: Done   9 tasks      | elapsed:  9.4min\n",
      "[Parallel(n_jobs=4)]: Done  10 tasks      | elapsed:  9.6min\n",
      "[Parallel(n_jobs=4)]: Done  11 tasks      | elapsed: 12.7min\n",
      "[Parallel(n_jobs=4)]: Done  12 tasks      | elapsed: 14.4min\n",
      "[Parallel(n_jobs=4)]: Done  13 tasks      | elapsed: 20.5min\n",
      "[Parallel(n_jobs=4)]: Done  14 tasks      | elapsed: 21.1min\n",
      "[Parallel(n_jobs=4)]: Done  15 tasks      | elapsed: 27.0min\n",
      "[Parallel(n_jobs=4)]: Done  16 tasks      | elapsed: 28.2min\n",
      "[Parallel(n_jobs=4)]: Done  17 tasks      | elapsed: 28.5min\n",
      "[Parallel(n_jobs=4)]: Done  18 tasks      | elapsed: 29.7min\n",
      "[Parallel(n_jobs=4)]: Done  19 tasks      | elapsed: 30.0min\n",
      "[Parallel(n_jobs=4)]: Done  20 tasks      | elapsed: 31.0min\n",
      "[Parallel(n_jobs=4)]: Done  21 tasks      | elapsed: 31.2min\n",
      "[Parallel(n_jobs=4)]: Done  22 tasks      | elapsed: 31.6min\n",
      "[Parallel(n_jobs=4)]: Done  23 tasks      | elapsed: 32.1min\n",
      "[Parallel(n_jobs=4)]: Done  24 tasks      | elapsed: 32.1min\n",
      "[Parallel(n_jobs=4)]: Done  25 tasks      | elapsed: 35.5min\n",
      "[Parallel(n_jobs=4)]: Done  26 tasks      | elapsed: 35.6min\n",
      "[Parallel(n_jobs=4)]: Done  27 tasks      | elapsed: 35.9min\n",
      "[Parallel(n_jobs=4)]: Done  28 tasks      | elapsed: 36.1min\n",
      "[Parallel(n_jobs=4)]: Done  29 tasks      | elapsed: 38.8min\n",
      "[Parallel(n_jobs=4)]: Done  30 tasks      | elapsed: 38.8min\n",
      "[Parallel(n_jobs=4)]: Done  31 tasks      | elapsed: 41.5min\n",
      "[Parallel(n_jobs=4)]: Done  32 tasks      | elapsed: 41.7min\n",
      "[Parallel(n_jobs=4)]: Done  33 tasks      | elapsed: 42.8min\n",
      "[Parallel(n_jobs=4)]: Done  34 tasks      | elapsed: 43.3min\n",
      "[Parallel(n_jobs=4)]: Done  35 tasks      | elapsed: 43.9min\n",
      "[Parallel(n_jobs=4)]: Done  36 tasks      | elapsed: 44.5min\n",
      "[Parallel(n_jobs=4)]: Done  37 tasks      | elapsed: 45.0min\n",
      "[Parallel(n_jobs=4)]: Done  38 tasks      | elapsed: 45.7min\n",
      "[Parallel(n_jobs=4)]: Done  39 tasks      | elapsed: 46.2min\n",
      "[Parallel(n_jobs=4)]: Done  40 tasks      | elapsed: 46.4min\n",
      "[Parallel(n_jobs=4)]: Done  41 tasks      | elapsed: 46.8min\n",
      "[Parallel(n_jobs=4)]: Done  42 tasks      | elapsed: 46.9min\n",
      "[Parallel(n_jobs=4)]: Done  43 tasks      | elapsed: 49.9min\n",
      "[Parallel(n_jobs=4)]: Done  44 tasks      | elapsed: 50.3min\n",
      "[Parallel(n_jobs=4)]: Done  45 tasks      | elapsed: 50.4min\n",
      "[Parallel(n_jobs=4)]: Done  46 tasks      | elapsed: 50.8min\n",
      "[Parallel(n_jobs=4)]: Done  47 tasks      | elapsed: 52.7min\n",
      "[Parallel(n_jobs=4)]: Done  48 tasks      | elapsed: 53.0min\n",
      "[Parallel(n_jobs=4)]: Done  50 tasks      | elapsed: 56.5min\n",
      "[Parallel(n_jobs=4)]: Done  51 tasks      | elapsed: 56.6min\n",
      "[Parallel(n_jobs=4)]: Done  52 tasks      | elapsed: 57.2min\n",
      "[Parallel(n_jobs=4)]: Done  53 tasks      | elapsed: 58.0min\n",
      "[Parallel(n_jobs=4)]: Done  54 tasks      | elapsed: 58.6min\n",
      "[Parallel(n_jobs=4)]: Done  55 tasks      | elapsed: 59.4min\n",
      "[Parallel(n_jobs=4)]: Done  56 tasks      | elapsed: 60.1min\n",
      "[Parallel(n_jobs=4)]: Done  57 tasks      | elapsed: 60.3min\n",
      "[Parallel(n_jobs=4)]: Done  58 tasks      | elapsed: 60.8min\n",
      "[Parallel(n_jobs=4)]: Done  59 tasks      | elapsed: 60.8min\n",
      "[Parallel(n_jobs=4)]: Done  60 tasks      | elapsed: 61.4min\n",
      "[Parallel(n_jobs=4)]: Done  61 tasks      | elapsed: 71.7min\n",
      "[Parallel(n_jobs=4)]: Done  62 tasks      | elapsed: 72.4min\n",
      "[Parallel(n_jobs=4)]: Done  63 tasks      | elapsed: 72.8min\n",
      "[Parallel(n_jobs=4)]: Done  64 tasks      | elapsed: 73.1min\n",
      "[Parallel(n_jobs=4)]: Done  65 tasks      | elapsed: 82.9min\n",
      "[Parallel(n_jobs=4)]: Done  66 tasks      | elapsed: 85.0min\n",
      "[Parallel(n_jobs=4)]: Done  67 tasks      | elapsed: 103.8min\n",
      "[Parallel(n_jobs=4)]: Done  68 tasks      | elapsed: 105.7min\n",
      "[Parallel(n_jobs=4)]: Done  69 tasks      | elapsed: 113.5min\n",
      "[Parallel(n_jobs=4)]: Done  70 tasks      | elapsed: 115.0min\n",
      "[Parallel(n_jobs=4)]: Done  71 tasks      | elapsed: 116.5min\n",
      "[Parallel(n_jobs=4)]: Done  72 tasks      | elapsed: 118.1min\n",
      "[Parallel(n_jobs=4)]: Done  73 tasks      | elapsed: 118.2min\n",
      "[Parallel(n_jobs=4)]: Done  74 tasks      | elapsed: 119.6min\n",
      "[Parallel(n_jobs=4)]: Done  75 tasks      | elapsed: 120.0min\n",
      "[Parallel(n_jobs=4)]: Done  76 tasks      | elapsed: 121.0min\n",
      "[Parallel(n_jobs=4)]: Done  77 tasks      | elapsed: 129.1min\n",
      "[Parallel(n_jobs=4)]: Done  78 tasks      | elapsed: 129.2min\n",
      "[Parallel(n_jobs=4)]: Done  79 tasks      | elapsed: 134.6min\n",
      "[Parallel(n_jobs=4)]: Done  80 tasks      | elapsed: 136.8min\n",
      "[Parallel(n_jobs=4)]: Done  81 tasks      | elapsed: 137.4min\n",
      "[Parallel(n_jobs=4)]: Done  82 tasks      | elapsed: 138.4min\n",
      "[Parallel(n_jobs=4)]: Done  83 tasks      | elapsed: 141.9min\n",
      "[Parallel(n_jobs=4)]: Done  84 tasks      | elapsed: 144.1min\n",
      "[Parallel(n_jobs=4)]: Done  85 tasks      | elapsed: 153.2min\n",
      "[Parallel(n_jobs=4)]: Done  86 tasks      | elapsed: 154.4min\n",
      "[Parallel(n_jobs=4)]: Done  87 tasks      | elapsed: 157.5min\n",
      "[Parallel(n_jobs=4)]: Done  88 tasks      | elapsed: 158.5min\n",
      "[Parallel(n_jobs=4)]: Done  89 tasks      | elapsed: 159.0min\n",
      "[Parallel(n_jobs=4)]: Done  90 tasks      | elapsed: 159.9min\n",
      "[Parallel(n_jobs=4)]: Done  91 tasks      | elapsed: 160.5min\n",
      "[Parallel(n_jobs=4)]: Done  92 tasks      | elapsed: 161.4min\n",
      "[Parallel(n_jobs=4)]: Done  93 tasks      | elapsed: 162.1min\n",
      "[Parallel(n_jobs=4)]: Done  94 tasks      | elapsed: 163.0min\n",
      "[Parallel(n_jobs=4)]: Done  95 tasks      | elapsed: 167.5min\n",
      "[Parallel(n_jobs=4)]: Done  96 tasks      | elapsed: 168.9min\n",
      "[Parallel(n_jobs=4)]: Done  97 tasks      | elapsed: 170.2min\n",
      "[Parallel(n_jobs=4)]: Done  98 tasks      | elapsed: 170.9min\n",
      "[Parallel(n_jobs=4)]: Done  99 tasks      | elapsed: 175.8min\n",
      "[Parallel(n_jobs=4)]: Done 100 tasks      | elapsed: 175.8min\n",
      "[Parallel(n_jobs=4)]: Done 101 tasks      | elapsed: 176.4min\n",
      "[Parallel(n_jobs=4)]: Done 108 out of 108 | elapsed: 201.3min finished\n"
     ]
    },
    {
     "data": {
      "text/plain": [
       "GridSearchCV(cv=3, error_score='raise-deprecating',\n",
       "       estimator=XGBRegressor(base_score=0.5, booster='gbtree', colsample_bylevel=1,\n",
       "       colsample_bytree=1, gamma=0, importance_type='gain',\n",
       "       learning_rate=0.1, max_delta_step=0, max_depth=3,\n",
       "       min_child_weight=1, missing=None, n_estimators=100, n_jobs=1,\n",
       "       nthread=None, objective=<function mae at 0x7f3efb51a048>,\n",
       "       random_state=0, reg_alpha=0, reg_lambda=1, scale_pos_weight=1,\n",
       "       seed=None, silent=True, subsample=1),\n",
       "       fit_params=None, iid='warn', n_jobs=4,\n",
       "       param_grid={'max_depth': [9], 'learning_rate': [0.1, 0.5, 1], 'n_estimators': [100, 500, 1000], 'verbosity': [2], 'booster': ['gbtree', 'dart'], 'n_jobs': [8], 'subsample': [0.5, 0.75]},\n",
       "       pre_dispatch='2*n_jobs', refit=True, return_train_score=True,\n",
       "       scoring=make_scorer(scorer), verbose=20)"
      ]
     },
     "execution_count": 20,
     "metadata": {},
     "output_type": "execute_result"
    }
   ],
   "source": [
    "## create XGBRegressor\n",
    "model2 = GridSearchCV(estimator=XGBRegressor(**params_xgbr),\n",
    "                     param_grid=params_cv, \n",
    "                     scoring=make_scorer(scorer),\n",
    "                     cv=3,\n",
    "                     verbose=20,\n",
    "                     n_jobs=4,\n",
    "                     return_train_score=True)\n",
    "model2.fit(scaled_x, scaled_y)"
   ]
  },
  {
   "cell_type": "code",
   "execution_count": 21,
   "metadata": {},
   "outputs": [
    {
     "name": "stdout",
     "output_type": "stream",
     "text": [
      "err2: 0.0007905852769899429\n",
      "err1: 0.17289935752153757\n",
      "params: {'booster': 'dart', 'learning_rate': 0.1, 'max_depth': 9, 'n_estimators': 1000, 'n_jobs': 8, 'subsample': 0.75, 'verbosity': 2}\n",
      "best scores: -0.008481104003457002\n"
     ]
    }
   ],
   "source": [
    "print(\"err2:\", err2_calc(model2.predict(train_x), train_y))\n",
    "print(\"err1:\", err1_calc(model2.predict(train_x), train_y, y_id))\n",
    "print(\"params:\", model2.best_params_)\n",
    "print(\"best scores:\", model2.best_score_)"
   ]
  },
  {
   "cell_type": "code",
   "execution_count": 22,
   "metadata": {},
   "outputs": [],
   "source": [
    "# write files\n",
    "write_prediction('train_y' + str(y_id) + '_' + str(track_id) + 'depth=9.txt', 'w', model2.predict(train_x).reshape((47500, 1)).astype('str'))\n",
    "write_prediction('test_y' + str(y_id) + '_' + str(track_id) + 'depth=9.txt', 'w', model2.predict(test_x).reshape((2500, 1)).astype('str'))"
   ]
  },
  {
   "cell_type": "code",
   "execution_count": 23,
   "metadata": {},
   "outputs": [],
   "source": [
    "x = model2.best_estimator_\n",
    "x.save_model('y2_2_depth=9.model')"
   ]
  },
  {
   "cell_type": "code",
   "execution_count": null,
   "metadata": {},
   "outputs": [],
   "source": []
  }
 ],
 "metadata": {
  "kernelspec": {
   "display_name": "Python 3",
   "language": "python",
   "name": "python3"
  },
  "language_info": {
   "codemirror_mode": {
    "name": "ipython",
    "version": 3
   },
   "file_extension": ".py",
   "mimetype": "text/x-python",
   "name": "python",
   "nbconvert_exporter": "python",
   "pygments_lexer": "ipython3",
   "version": "3.7.3"
  }
 },
 "nbformat": 4,
 "nbformat_minor": 2
}
