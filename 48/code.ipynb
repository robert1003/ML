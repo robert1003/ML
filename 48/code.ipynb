{
  "nbformat": 4,
  "nbformat_minor": 0,
  "metadata": {
    "colab": {
      "name": "Untitled0.ipynb",
      "version": "0.3.2",
      "provenance": []
    },
    "kernelspec": {
      "name": "python3",
      "display_name": "Python 3"
    },
    "accelerator": "GPU"
  },
  "cells": [
    {
      "metadata": {
        "id": "ICFZ9dpMvJca",
        "colab_type": "code",
        "colab": {}
      },
      "cell_type": "code",
      "source": [
        "!wget https://learner.csie.ntu.edu.tw/~judge/ml19spring/ml19spring.zip\n",
        "!unzip ml19spring.zip"
      ],
      "execution_count": 0,
      "outputs": []
    },
    {
      "metadata": {
        "id": "Oq9K_ZtpTvUk",
        "colab_type": "code",
        "colab": {
          "base_uri": "https://localhost:8080/",
          "height": 74
        },
        "outputId": "86170867-21e7-43aa-8b95-880ac5c0fb47"
      },
      "cell_type": "code",
      "source": [
        "from google.colab import drive\n",
        "drive.mount('/content/gdrive')\n",
        "\n",
        "prefix = '/content/gdrive/My Drive/'"
      ],
      "execution_count": 66,
      "outputs": [
        {
          "output_type": "stream",
          "text": [
            "Drive already mounted at /content/gdrive; to attempt to forcibly remount, call drive.mount(\"/content/gdrive\", force_remount=True).\n"
          ],
          "name": "stdout"
        }
      ]
    },
    {
      "metadata": {
        "id": "PMfAHiBuSt7I",
        "colab_type": "code",
        "colab": {}
      },
      "cell_type": "code",
      "source": [
        "!rm ml19spring.zip"
      ],
      "execution_count": 0,
      "outputs": []
    },
    {
      "metadata": {
        "id": "cSYkj-ZOUGCN",
        "colab_type": "code",
        "colab": {}
      },
      "cell_type": "code",
      "source": [
        "!unzip /content/gdrive/My\\ Drive/colab.zip -d ./"
      ],
      "execution_count": 0,
      "outputs": []
    },
    {
      "metadata": {
        "id": "omXjbP8Zz9iC",
        "colab_type": "code",
        "colab": {}
      },
      "cell_type": "code",
      "source": [
        "import sys\n",
        "sys.path.insert(0, './colab/')\n",
        "from training_utils import *"
      ],
      "execution_count": 0,
      "outputs": []
    },
    {
      "metadata": {
        "id": "qdpajIBNyexP",
        "colab_type": "code",
        "colab": {}
      },
      "cell_type": "code",
      "source": [
        "# specify id\n",
        "y_id = 1\n",
        "track_id = 1"
      ],
      "execution_count": 0,
      "outputs": []
    },
    {
      "metadata": {
        "id": "esAPajBNpj1V",
        "colab_type": "code",
        "colab": {
          "base_uri": "https://localhost:8080/",
          "height": 34
        },
        "outputId": "86beaa61-4225-46b6-cdb6-ebc50db7be86"
      },
      "cell_type": "code",
      "source": [
        "from xgboost import XGBRegressor\n",
        "import numpy as np\n",
        "import pandas as pd\n",
        "import matplotlib.pyplot as plt\n",
        "\n",
        "test_x = np.load('X_test.npz')['arr_0']\n",
        "train_x = np.load('X_train.npz')['arr_0']\n",
        "train_y = np.load('Y_train.npz')['arr_0'][:, y_id]\n",
        "all_x = train_x.copy()\n",
        "all_y = train_y.copy()\n",
        "print(test_x.shape, train_x.shape, train_y.shape)"
      ],
      "execution_count": 58,
      "outputs": [
        {
          "output_type": "stream",
          "text": [
            "(2500, 10000) (47500, 10000) (47500,)\n"
          ],
          "name": "stdout"
        }
      ]
    },
    {
      "metadata": {
        "id": "Pv-detd9VASG",
        "colab_type": "code",
        "colab": {
          "base_uri": "https://localhost:8080/",
          "height": 51
        },
        "outputId": "475b0c37-f564-4f1a-e643-5f9cab693664"
      },
      "cell_type": "code",
      "source": [
        "# pick only important data\n",
        "idx = {}\n",
        "with open('colab/29/adaboost' + str(y_id) + '_feature.csv', 'r') as f:\n",
        "    i = 0\n",
        "    for lines in f:\n",
        "        importance = float(lines.replace('\\n', '').split(',')[y_id])\n",
        "        if i not in idx:\n",
        "            idx[i] = 0\n",
        "        idx[i] += importance\n",
        "        i += 1\n",
        "with open('colab/28/adaboost' + str(y_id) + '_feature.csv', 'r') as f:\n",
        "    i = 0\n",
        "    for lines in f:\n",
        "        importance = float(lines.replace('\\n', '').split(',')[y_id])\n",
        "        if i not in idx:\n",
        "            idx[i] = 0\n",
        "        idx[i] += importance\n",
        "        i += 1\n",
        "\n",
        "with open('colab/32/adaboost' + str(y_id) + '_feature.csv', 'r') as f:\n",
        "    i = 0\n",
        "    for lines in f:\n",
        "        importance = float(lines.replace('\\n', '').split(',')[y_id])\n",
        "        if i not in idx:\n",
        "            idx[i] = 0\n",
        "        idx[i] += importance\n",
        "        i += 1\n",
        "with open('colab/35/random_forest' + str(y_id) + '_feature.csv', 'r') as f:\n",
        "    i = 0\n",
        "    for lines in f:\n",
        "        importance = float(lines.replace('\\n', '').split(',')[y_id])\n",
        "        if i not in idx:\n",
        "            idx[i] = 0\n",
        "        idx[i] += importance\n",
        "        i += 1\n",
        "    \n",
        "idxx = [i[0] for i in idx.items() if i[1] > 1e-3]\n",
        "print(len(idxx))\n",
        "train_x = train_x[:, idxx]\n",
        "test_x = test_x[:, idxx]\n",
        "all_x = all_x[:, idxx]\n",
        "print(train_x.shape)"
      ],
      "execution_count": 59,
      "outputs": [
        {
          "output_type": "stream",
          "text": [
            "402\n",
            "(47500, 402)\n"
          ],
          "name": "stdout"
        }
      ]
    },
    {
      "metadata": {
        "id": "elQZbmjWXJMy",
        "colab_type": "code",
        "colab": {
          "base_uri": "https://localhost:8080/",
          "height": 34
        },
        "outputId": "083da3a8-b9ad-4764-8abe-58e96f7e6b66"
      },
      "cell_type": "code",
      "source": [
        "from sklearn.model_selection import train_test_split\n",
        "\n",
        "train_x, mytest_x, train_y, mytest_y = train_test_split(train_x, train_y, test_size=0.052631578947368, random_state=1126)\n",
        "train_x, val_x, train_y, val_y = train_test_split(train_x, train_y, test_size=0.055555555555554, random_state=1126)\n",
        "print(train_x.shape, val_x.shape, mytest_x.shape, train_y.shape, val_y.shape, mytest_y.shape)"
      ],
      "execution_count": 60,
      "outputs": [
        {
          "output_type": "stream",
          "text": [
            "(42500, 402) (2500, 402) (2500, 402) (42500,) (2500,) (2500,)\n"
          ],
          "name": "stdout"
        }
      ]
    },
    {
      "metadata": {
        "id": "VLuZ-TarUhvR",
        "colab_type": "code",
        "colab": {}
      },
      "cell_type": "code",
      "source": [
        "# define my own scorer\n",
        "# actually it should be called error function here\n",
        "def scorer(y_pred, y_true):\n",
        "    return 'error', 1.0 * np.sum(np.abs(y_true.get_label() - y_pred)) / len(y_pred)\n",
        "  \n",
        "# define my own error function\n",
        "def mae(y_true, y_pred):\n",
        "    grad = np.tanh(y_pred - y_true)\n",
        "    hess = 1 - grad * grad\n",
        "    return grad, hess\n",
        "\n",
        "def mae2(y_true, y_pred):\n",
        "    print(y_true, y_pred)\n",
        "    grad = (np.exp(10 * (y_pred - y_true)) - 1) / (np.exp(10 * (y_pred - y_true)) + 1)\n",
        "    hess = (20 * np.exp(10 * (y_pred - y_true))) / (np.exp(10 * (y_pred - y_true)) + 1) ** 2\n",
        "    return grad, hess\n",
        "\n",
        "  \n",
        "params = {\n",
        "    'objective': mae2,\n",
        "    'max_depth': 6,\n",
        "    'learning_rate': 0.1,\n",
        "    'verbosity': 20,\n",
        "    'tree_method': 'gpu_hist',\n",
        "    'predictor': 'gpu_predictor',\n",
        "    'n_estimators': 500,\n",
        "    'n_jobs': 1,\n",
        "    'subsample': 0.75,\n",
        "    'booster': 'dart'\n",
        "}\n",
        "\n"
      ],
      "execution_count": 0,
      "outputs": []
    },
    {
      "metadata": {
        "id": "Kazw9amYR1AV",
        "colab_type": "code",
        "colab": {}
      },
      "cell_type": "code",
      "source": [
        "from xgboost import XGBRegressor\n",
        "model = XGBRegressor(**params)\n",
        "file_path = prefix + '48tmp.model'\n",
        "print(file_path)\n",
        "model.fit(train_x, train_y, eval_set=[(val_x, val_y)], eval_metric=scorer, early_stopping_rounds=None, xgb_model=file_path)"
      ],
      "execution_count": 0,
      "outputs": []
    },
    {
      "metadata": {
        "id": "SJeHIfjAGVKJ",
        "colab_type": "code",
        "colab": {}
      },
      "cell_type": "code",
      "source": [
        "from xgboost import XGBRegressor\n",
        "model = XGBRegressor(**params)\n",
        "model.fit(train_x, train_y, eval_set=[(val_x, val_y)], eval_metric=scorer, early_stopping_rounds=None)\n",
        "model.save_model('48tmp.model')"
      ],
      "execution_count": 0,
      "outputs": []
    },
    {
      "metadata": {
        "id": "mIps1hdlGlhU",
        "colab_type": "code",
        "colab": {}
      },
      "cell_type": "code",
      "source": [
        "model = XGBRegressor(**params)\n",
        "model.fit(train_x, train_y, eval_set=[(val_x, val_y)], eval_metric=scorer, early_stopping_rounds=None, xgb_model='48tmp.model')"
      ],
      "execution_count": 0,
      "outputs": []
    },
    {
      "metadata": {
        "id": "LogsyVrfY9Lp",
        "colab_type": "code",
        "colab": {
          "base_uri": "https://localhost:8080/",
          "height": 153
        },
        "outputId": "4b3dc34b-94fa-4c6f-e7ba-6b969f0f4386"
      },
      "cell_type": "code",
      "source": [
        "#from xgboost import XGBRegressor\n",
        "#model = XGBRegressor(**params)\n",
        "#model.load_model(prefix + '2_46.model')\n",
        "\n",
        "print(\"ein1:\", err1_calc(model.predict(train_x), train_y, y_id))\n",
        "print(\"eval1:\", err1_calc(model.predict(val_x), val_y, y_id))\n",
        "print(\"etest1:\", err1_calc(model.predict(mytest_x), mytest_y, y_id))\n",
        "print(\"eall1:\", err1_calc(model.predict(all_x), all_y, y_id))\n",
        "\n",
        "print(\"ein2:\", err2_calc(model.predict(train_x), train_y))\n",
        "print(\"eval2:\", err2_calc(model.predict(val_x), val_y))\n",
        "print(\"etest2:\", err2_calc(model.predict(mytest_x), mytest_y))\n",
        "print(\"eall2:\", err2_calc(model.predict(all_x), all_y))\n",
        "\n"
      ],
      "execution_count": 55,
      "outputs": [
        {
          "output_type": "stream",
          "text": [
            "ein1: 1.2834163040577615\n",
            "eval1: 1.9987864119140657\n",
            "etest1: 2.0401483574541928\n",
            "eall1: 1.3608953651763267\n",
            "ein2: 0.005913730910476374\n",
            "eval2: 0.009327857700886016\n",
            "etest2: 0.009396067317782067\n",
            "eall2: 0.00627670265772455\n"
          ],
          "name": "stdout"
        }
      ]
    },
    {
      "metadata": {
        "id": "PbP74VohcgPX",
        "colab_type": "code",
        "colab": {}
      },
      "cell_type": "code",
      "source": [
        "# write files\n",
        "write_prediction(prefix + '48_train_y' + str(y_id) + '_' + str(track_id) + '.txt', 'w', model.predict(all_x).reshape((47500, 1)).astype('str'))\n",
        "write_prediction(prefix + '48_test_y' + str(y_id) + '_' + str(track_id) + '.txt', 'w', model.predict(test_x).reshape((2500, 1)).astype('str'))\n",
        "model.save_model(prefix + str(y_id) + '_48.model')"
      ],
      "execution_count": 0,
      "outputs": []
    },
    {
      "metadata": {
        "id": "ib1bqs4cYDQ7",
        "colab_type": "code",
        "colab": {}
      },
      "cell_type": "code",
      "source": [
        "model.save_model(prefix + '48tmp.model')"
      ],
      "execution_count": 0,
      "outputs": []
    },
    {
      "metadata": {
        "id": "pEEg7P_DbA2M",
        "colab_type": "code",
        "colab": {}
      },
      "cell_type": "code",
      "source": [
        ""
      ],
      "execution_count": 0,
      "outputs": []
    }
  ]
}