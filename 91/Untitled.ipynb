{
 "cells": [
  {
   "cell_type": "code",
   "execution_count": 1,
   "metadata": {},
   "outputs": [],
   "source": [
    "train_size = 47500"
   ]
  },
  {
   "cell_type": "code",
   "execution_count": 2,
   "metadata": {},
   "outputs": [],
   "source": [
    "import numpy as np\n",
    "import pandas as pd\n",
    "import matplotlib.pyplot as plt\n",
    "import lightgbm as lgb\n",
    "import time\n",
    "from sklearn.model_selection import cross_validate\n",
    "%matplotlib inline"
   ]
  },
  {
   "cell_type": "code",
   "execution_count": 3,
   "metadata": {},
   "outputs": [],
   "source": [
    "np.set_printoptions(precision=9)\n",
    "np.set_printoptions(linewidth=np.inf)"
   ]
  },
  {
   "cell_type": "code",
   "execution_count": 5,
   "metadata": {},
   "outputs": [],
   "source": [
    "X = np.load('../../X_train.npz')['arr_0']\n",
    "Y = np.load('../../Y_train.npz')['arr_0']\n",
    "TX = np.load('../../X_test.npz')['arr_0']"
   ]
  },
  {
   "cell_type": "code",
   "execution_count": 6,
   "metadata": {},
   "outputs": [],
   "source": [
    "rd =  np.random.permutation(47500)\n",
    "X, Y = X[rd], Y[rd]"
   ]
  },
  {
   "cell_type": "code",
   "execution_count": 7,
   "metadata": {},
   "outputs": [],
   "source": [
    "XTX = np.concatenate((X, TX), axis=0)"
   ]
  },
  {
   "cell_type": "code",
   "execution_count": 8,
   "metadata": {},
   "outputs": [],
   "source": [
    "XTX_square = XTX ** 2\n",
    "XTX_cumsum = np.concatenate((np.cumsum(XTX[:, :5000], axis=1), np.cumsum(XTX[:, 5000:], axis=1)), axis=1)\n",
    "XTX_all = np.concatenate((XTX, XTX_square, XTX_cumsum), axis=1)"
   ]
  },
  {
   "cell_type": "code",
   "execution_count": 11,
   "metadata": {},
   "outputs": [
    {
     "data": {
      "text/plain": [
       "(50000, 30000)"
      ]
     },
     "execution_count": 11,
     "metadata": {},
     "output_type": "execute_result"
    }
   ],
   "source": [
    "XTX_all.shape"
   ]
  },
  {
   "cell_type": "code",
   "execution_count": 10,
   "metadata": {},
   "outputs": [],
   "source": [
    "# calculate type 1 error\n",
    "def err1(y, y_pred):\n",
    "    return np.sum(1.0 * np.abs(y_pred - y)) / len(y_pred)\n",
    "\n",
    "# calculate type 2 errr\n",
    "def err2(y, y_pred):\n",
    "    return np.sum(np.abs(y_pred - y) / y) / len(y_pred)"
   ]
  },
  {
   "cell_type": "code",
   "execution_count": null,
   "metadata": {},
   "outputs": [],
   "source": [
    "y_id = 0\n",
    "\n",
    "gbm0 = lgb.LGBMRegressor(num_leaves=31,\n",
    "                        learning_rate=0.05,\n",
    "                        n_estimators=1000,\n",
    "                        n_jobs=-1)\n",
    "\n",
    "t = time.time()\n",
    "gbm0.fit(XTX_all[:42500], Y[:42500, y_id], \n",
    "        eval_set=[(XTX_all[42500:45000], Y[42500:45000, y_id])], \n",
    "        eval_metric='l1', \n",
    "        early_stopping_rounds=5)\n",
    "print(time.time() - t)\n",
    "\n",
    "print('in:')\n",
    "print(300.0 * err1(gbm0.predict(XTX_all[:42500]), Y[:42500, y_id]))\n",
    "print(err2(gbm0.predict(XTX_all[:42500]), Y[:42500, y_id]))\n",
    "\n",
    "print('val:')\n",
    "print(300.0 * err1(gbm0.predict(XTX_all[42500:45000]), Y[42500:45000, y_id]))\n",
    "print(err2(gbm0.predict(XTX_all[42500:45000]), Y[42500:45000, y_id]))\n",
    "\n",
    "print('test:')\n",
    "print(300.0 * err1(gbm0.predict(XTX_all[45000:47500]), Y[45000:47500, y_id]))\n",
    "print(err2(gbm0.predict(XTX_all[45000:47500]), Y[45000:47500, y_id]))\n",
    "\n",
    "ty0 = gbm0.predict(XTX_all[47500:])"
   ]
  },
  {
   "cell_type": "code",
   "execution_count": null,
   "metadata": {},
   "outputs": [],
   "source": [
    "y_id = 1\n",
    "\n",
    "gbm1 = lgb.LGBMRegressor(num_leaves=31,\n",
    "                        learning_rate=0.05,\n",
    "                        n_estimators=1000,\n",
    "                        n_jobs=-1)\n",
    "\n",
    "t = time.time()\n",
    "gbm1.fit(XTX_all[:42500], Y[:42500, y_id], \n",
    "        eval_set=[(XTX_all[42500:45000], Y[42500:45000, y_id])], \n",
    "        eval_metric='l1', \n",
    "        early_stopping_rounds=5)\n",
    "print(time.time() - t)\n",
    "\n",
    "print('in:')\n",
    "print(1.0 * err1(gbm1.predict(XTX_all[:42500]), Y[:42500, y_id]))\n",
    "print(err2(gbm1.predict(XTX_all[:42500]), Y[:42500, y_id]))\n",
    "\n",
    "print('val:')\n",
    "print(1.0 * err1(gbm1.predict(XTX_all[42500:45000]), Y[42500:45000, y_id]))\n",
    "print(err2(gbm1.predict(XTX_all[42500:45000]), Y[42500:45000, y_id]))\n",
    "\n",
    "print('test:')\n",
    "print(1.0 * err1(gbm1.predict(XTX_all[45000:47500]), Y[45000:47500, y_id]))\n",
    "print(err2(gbm1.predict(XTX_all[45000:47500]), Y[45000:47500, y_id]))\n",
    "\n",
    "ty1 = gbm1.predict(XTX_all[47500:])"
   ]
  },
  {
   "cell_type": "code",
   "execution_count": null,
   "metadata": {},
   "outputs": [],
   "source": [
    "y_id = 2\n",
    "\n",
    "gbm2 = lgb.LGBMRegressor(num_leaves=31,\n",
    "                        learning_rate=0.05,\n",
    "                        n_estimators=1000,\n",
    "                        n_jobs=-1)\n",
    "\n",
    "t = time.time()\n",
    "gbm2.fit(XTX_all[:42500], Y[:42500, y_id], \n",
    "        eval_set=[(XTX_all[42500:45000], Y[42500:45000, y_id])], \n",
    "        eval_metric='l1', \n",
    "        early_stopping_rounds=5)\n",
    "print(time.time() - t)\n",
    "\n",
    "print('in:')\n",
    "print(200.0 * err1(gbm2.predict(XTX_all[:42500]), Y[:42500, y_id]))\n",
    "print(err2(gbm2.predict(XTX_all[:42500]), Y[:42500, y_id]))\n",
    "\n",
    "print('val:')\n",
    "print(200.0 * err1(gbm2.predict(XTX_all[42500:45000]), Y[42500:45000, y_id]))\n",
    "print(err2(gbm2.predict(XTX_all[42500:45000]), Y[42500:45000, y_id]))\n",
    "\n",
    "print('test:')\n",
    "print(200.0 * err1(gbm2.predict(XTX_all[45000:47500]), Y[45000:47500, y_id]))\n",
    "print(err2(gbm2.predict(XTX_all[45000:47500]), Y[45000:47500, y_id]))\n",
    "\n",
    "ty2 = gbm2.predict(XTX_all[47500:])"
   ]
  },
  {
   "cell_type": "code",
   "execution_count": null,
   "metadata": {},
   "outputs": [],
   "source": [
    "ty = np.array([ty0, ty1, ty2]).transpose()\n",
    "print(ty.shape)\n",
    "df = pd.DataFrame(ty)\n",
    "df.to_csv('y_test.csv', index=False, header=False)"
   ]
  },
  {
   "cell_type": "code",
   "execution_count": null,
   "metadata": {},
   "outputs": [],
   "source": []
  }
 ],
 "metadata": {
  "kernelspec": {
   "display_name": "Python 3",
   "language": "python",
   "name": "python3"
  },
  "language_info": {
   "codemirror_mode": {
    "name": "ipython",
    "version": 3
   },
   "file_extension": ".py",
   "mimetype": "text/x-python",
   "name": "python",
   "nbconvert_exporter": "python",
   "pygments_lexer": "ipython3",
   "version": "3.7.3"
  }
 },
 "nbformat": 4,
 "nbformat_minor": 2
}
