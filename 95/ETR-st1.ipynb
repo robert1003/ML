{
 "cells": [
  {
   "cell_type": "code",
   "execution_count": 19,
   "metadata": {},
   "outputs": [],
   "source": [
    "train_size = 47500"
   ]
  },
  {
   "cell_type": "code",
   "execution_count": 14,
   "metadata": {},
   "outputs": [],
   "source": [
    "import numpy as np\n",
    "import pandas as pd\n",
    "import matplotlib.pyplot as plt\n",
    "import lightgbm as lgb\n",
    "import time\n",
    "from sklearn.metrics import make_scorer\n",
    "from sklearn.model_selection import cross_validate\n",
    "from sklearn.model_selection import KFold\n",
    "from sklearn.model_selection import GridSearchCV\n",
    "from sklearn.ensemble import ExtraTreesRegressor\n",
    "%matplotlib inline"
   ]
  },
  {
   "cell_type": "code",
   "execution_count": 3,
   "metadata": {},
   "outputs": [],
   "source": [
    "np.set_printoptions(precision=9)\n",
    "np.set_printoptions(linewidth=np.inf)"
   ]
  },
  {
   "cell_type": "code",
   "execution_count": 4,
   "metadata": {},
   "outputs": [],
   "source": [
    "X = np.load('../../X_train.npz')['arr_0']\n",
    "Y = np.load('../../Y_train.npz')['arr_0']\n",
    "TX = np.load('../../X_test.npz')['arr_0']"
   ]
  },
  {
   "cell_type": "code",
   "execution_count": 5,
   "metadata": {},
   "outputs": [],
   "source": [
    "XTX = np.concatenate((X, TX), axis=0)"
   ]
  },
  {
   "cell_type": "code",
   "execution_count": 6,
   "metadata": {},
   "outputs": [],
   "source": [
    "X = None\n",
    "TX = None"
   ]
  },
  {
   "cell_type": "code",
   "execution_count": 7,
   "metadata": {},
   "outputs": [],
   "source": [
    "XTX_square = XTX ** 2\n",
    "XTX_cumsum = np.concatenate((np.cumsum(XTX[:, :5000], axis=1), np.cumsum(XTX[:, 5000:], axis=1)), axis=1)\n",
    "XTX_all = np.concatenate((XTX, XTX_square, XTX_cumsum), axis=1)"
   ]
  },
  {
   "cell_type": "code",
   "execution_count": 8,
   "metadata": {},
   "outputs": [],
   "source": [
    "XTX_square = None\n",
    "XTX_cumsum = None\n",
    "XTX = None"
   ]
  },
  {
   "cell_type": "code",
   "execution_count": 9,
   "metadata": {},
   "outputs": [
    {
     "data": {
      "text/plain": [
       "(50000, 30000)"
      ]
     },
     "execution_count": 9,
     "metadata": {},
     "output_type": "execute_result"
    }
   ],
   "source": [
    "XTX_all.shape"
   ]
  },
  {
   "cell_type": "code",
   "execution_count": 10,
   "metadata": {},
   "outputs": [
    {
     "name": "stdout",
     "output_type": "stream",
     "text": [
      "(47500, 30000) (2500, 30000)\n"
     ]
    }
   ],
   "source": [
    "X, X_test = XTX_all[:train_size], XTX_all[train_size:]\n",
    "print(X.shape, X_test.shape)"
   ]
  },
  {
   "cell_type": "code",
   "execution_count": 11,
   "metadata": {},
   "outputs": [],
   "source": [
    "# calculate type 1 error\n",
    "def err1(y, y_pred):\n",
    "    return np.sum(1.0 * np.abs(y_pred - y)) / len(y_pred)\n",
    "\n",
    "# calculate type 2 errr\n",
    "def err2(y, y_pred):\n",
    "    return np.sum(np.abs(y_pred - y) / y) / len(y_pred)"
   ]
  },
  {
   "cell_type": "code",
   "execution_count": null,
   "metadata": {},
   "outputs": [],
   "source": [
    "scorer = {'t1':make_scorer(err1, greater_is_better=False), 't2':make_scorer(err2, greater_is_better=False)}"
   ]
  },
  {
   "cell_type": "code",
   "execution_count": null,
   "metadata": {},
   "outputs": [],
   "source": [
    "# select best params\n",
    "y_id = 0\n",
    "idx = np.random.permutation(47500)[:1000]\n",
    "X_tmp, y_tmp = X[idx], Y[idx]\n",
    "params = {'boosting_type':['gbdt', 'dart'],\n",
    "          'num_leaves':[31, 511],\n",
    "          'learning_rate':[0.05],\n",
    "          'n_estimators':[100],\n",
    "          'n_jobs':[23]}\n",
    "\n",
    "t1_err = np.Inf\n",
    "t2_err = np.Inf\n",
    "t1_best_params = {}\n",
    "t2_best_params = {}\n",
    "keys, values = zip(*params.items())\n",
    "for v in itertools.product(*values):\n",
    "    param = dict(zip(keys, v))\n",
    "    print(param)\n",
    "    t1_errr = 0\n",
    "    t2_errr = 0\n",
    "    kf = KFold(n_splits=5, shuffle=False)\n",
    "    for train_idx, val_idx in kf.split(X_tmp):\n",
    "        X_train, X_val = X[train_idx], X[val_idx]\n",
    "        y_train, y_val = Y[train_idx, y_id], Y[val_idx, y_id]\n",
    "        \n",
    "        model = lgb.LGBMRegressor(**param)\n",
    "        model.fit(X_train, y_train)\n",
    "        t1_errr += err1(model.predict(X_val), y_val)\n",
    "        t2_errr += err2(model.predict(X_val), y_val)\n",
    "    \n",
    "    if t1_errr / 5 < t1_err:\n",
    "        t1_best_params = param\n",
    "        t1_err = t1_errr / 5\n",
    "    if t2_errr / 5 < t2_err:\n",
    "        t2_best_params = param\n",
    "        t2_err = t2_errr / 5"
   ]
  },
  {
   "cell_type": "code",
   "execution_count": 12,
   "metadata": {},
   "outputs": [],
   "source": [
    "params = {'n_estimators':500, 'criterion':'mae', 'max_depth':5, 'max_features':'sqrt', 'bootstrap':True, 'n_jobs':-1, 'verbose':1}"
   ]
  },
  {
   "cell_type": "code",
   "execution_count": null,
   "metadata": {},
   "outputs": [
    {
     "name": "stderr",
     "output_type": "stream",
     "text": [
      "[Parallel(n_jobs=-1)]: Using backend ThreadingBackend with 32 concurrent workers.\n",
      "[Parallel(n_jobs=-1)]: Done 136 tasks      | elapsed: 76.3min\n",
      "[Parallel(n_jobs=-1)]: Done 386 tasks      | elapsed: 194.8min\n",
      "[Parallel(n_jobs=-1)]: Done 500 out of 500 | elapsed: 240.8min finished\n",
      "[Parallel(n_jobs=32)]: Using backend ThreadingBackend with 32 concurrent workers.\n",
      "[Parallel(n_jobs=32)]: Done 136 tasks      | elapsed:    0.1s\n",
      "[Parallel(n_jobs=32)]: Done 386 tasks      | elapsed:    0.2s\n",
      "[Parallel(n_jobs=32)]: Done 500 out of 500 | elapsed:    0.3s finished\n",
      "[Parallel(n_jobs=32)]: Using backend ThreadingBackend with 32 concurrent workers.\n",
      "[Parallel(n_jobs=32)]: Done 136 tasks      | elapsed:    0.1s\n",
      "[Parallel(n_jobs=32)]: Done 386 tasks      | elapsed:    0.1s\n",
      "[Parallel(n_jobs=32)]: Done 500 out of 500 | elapsed:    0.2s finished\n",
      "[Parallel(n_jobs=-1)]: Using backend ThreadingBackend with 32 concurrent workers.\n",
      "[Parallel(n_jobs=-1)]: Done 136 tasks      | elapsed: 74.7min\n",
      "[Parallel(n_jobs=-1)]: Done 386 tasks      | elapsed: 197.2min\n",
      "[Parallel(n_jobs=-1)]: Done 500 out of 500 | elapsed: 248.3min finished\n",
      "[Parallel(n_jobs=32)]: Using backend ThreadingBackend with 32 concurrent workers.\n",
      "[Parallel(n_jobs=32)]: Done 136 tasks      | elapsed:    0.1s\n",
      "[Parallel(n_jobs=32)]: Done 386 tasks      | elapsed:    0.3s\n",
      "[Parallel(n_jobs=32)]: Done 500 out of 500 | elapsed:    0.3s finished\n",
      "[Parallel(n_jobs=32)]: Using backend ThreadingBackend with 32 concurrent workers.\n",
      "[Parallel(n_jobs=32)]: Done 136 tasks      | elapsed:    0.1s\n",
      "[Parallel(n_jobs=32)]: Done 386 tasks      | elapsed:    0.1s\n",
      "[Parallel(n_jobs=32)]: Done 500 out of 500 | elapsed:    0.2s finished\n",
      "[Parallel(n_jobs=-1)]: Using backend ThreadingBackend with 32 concurrent workers.\n",
      "[Parallel(n_jobs=-1)]: Done 136 tasks      | elapsed: 78.8min\n",
      "[Parallel(n_jobs=-1)]: Done 386 tasks      | elapsed: 203.3min\n"
     ]
    }
   ],
   "source": [
    "ty = []\n",
    "vy = []\n",
    "feature_imp = []\n",
    "\n",
    "for y_id in range(1):\n",
    "    kf = KFold(n_splits=5, shuffle=False)\n",
    "    tty = []\n",
    "    tvy = []\n",
    "    for train_idx, val_idx in kf.split(X):\n",
    "        X_train, X_val = X[train_idx], X[val_idx]\n",
    "        y_train, y_val = Y[train_idx], Y[val_idx]\n",
    "        \n",
    "        model = ExtraTreesRegressor(**params)\n",
    "        model.fit(X_train, y_train)\n",
    "        feature_imp.append(model.feature_importances_)\n",
    "        \n",
    "        tvy.append(model.predict(X_val))\n",
    "        tty.append(model.predict(X_test))\n",
    "    vy = np.concatenate((tvy[0], tvy[1], tvy[2], tvy[3], tvy[4]), axis=0)\n",
    "    ty = np.mean(np.array(tty), axis=0)\n",
    "\n",
    "ty = ty.transpose()\n",
    "vy = vy.transpose()\n",
    "df = pd.DataFrame(ty)\n",
    "df.to_csv('t_test.csv', index=False, header=False)\n",
    "df = pd.DataFrame(vy)\n",
    "df.to_csv('t_val.csv', index=False, header=False)\n",
    "feature_imp = np.array(feature_imp).transpose()\n",
    "df = pd.DataFrame(feature_imp)\n",
    "df.to_csv('feature_imp.csv', index=False, header=False)"
   ]
  },
  {
   "cell_type": "code",
   "execution_count": 33,
   "metadata": {},
   "outputs": [],
   "source": [
    "df = pd.read_csv('t_val.csv', header=None)"
   ]
  },
  {
   "cell_type": "code",
   "execution_count": 24,
   "metadata": {},
   "outputs": [],
   "source": [
    "df = df.transpose()"
   ]
  },
  {
   "cell_type": "code",
   "execution_count": 34,
   "metadata": {},
   "outputs": [
    {
     "data": {
      "text/plain": [
       "(47500, 3)"
      ]
     },
     "execution_count": 34,
     "metadata": {},
     "output_type": "execute_result"
    }
   ],
   "source": [
    "df.shape"
   ]
  },
  {
   "cell_type": "code",
   "execution_count": 35,
   "metadata": {},
   "outputs": [
    {
     "data": {
      "text/html": [
       "<div>\n",
       "<style scoped>\n",
       "    .dataframe tbody tr th:only-of-type {\n",
       "        vertical-align: middle;\n",
       "    }\n",
       "\n",
       "    .dataframe tbody tr th {\n",
       "        vertical-align: top;\n",
       "    }\n",
       "\n",
       "    .dataframe thead th {\n",
       "        text-align: right;\n",
       "    }\n",
       "</style>\n",
       "<table border=\"1\" class=\"dataframe\">\n",
       "  <thead>\n",
       "    <tr style=\"text-align: right;\">\n",
       "      <th></th>\n",
       "      <th>0</th>\n",
       "      <th>1</th>\n",
       "      <th>2</th>\n",
       "    </tr>\n",
       "  </thead>\n",
       "  <tbody>\n",
       "    <tr>\n",
       "      <th>0</th>\n",
       "      <td>0.460213</td>\n",
       "      <td>156.195177</td>\n",
       "      <td>0.785738</td>\n",
       "    </tr>\n",
       "    <tr>\n",
       "      <th>1</th>\n",
       "      <td>0.467361</td>\n",
       "      <td>162.414069</td>\n",
       "      <td>0.621672</td>\n",
       "    </tr>\n",
       "    <tr>\n",
       "      <th>2</th>\n",
       "      <td>0.458956</td>\n",
       "      <td>186.073495</td>\n",
       "      <td>0.590581</td>\n",
       "    </tr>\n",
       "    <tr>\n",
       "      <th>3</th>\n",
       "      <td>0.462112</td>\n",
       "      <td>150.266357</td>\n",
       "      <td>0.782895</td>\n",
       "    </tr>\n",
       "    <tr>\n",
       "      <th>4</th>\n",
       "      <td>0.472306</td>\n",
       "      <td>151.223090</td>\n",
       "      <td>0.616289</td>\n",
       "    </tr>\n",
       "  </tbody>\n",
       "</table>\n",
       "</div>"
      ],
      "text/plain": [
       "          0           1         2\n",
       "0  0.460213  156.195177  0.785738\n",
       "1  0.467361  162.414069  0.621672\n",
       "2  0.458956  186.073495  0.590581\n",
       "3  0.462112  150.266357  0.782895\n",
       "4  0.472306  151.223090  0.616289"
      ]
     },
     "execution_count": 35,
     "metadata": {},
     "output_type": "execute_result"
    }
   ],
   "source": [
    "df.head()"
   ]
  },
  {
   "cell_type": "code",
   "execution_count": 37,
   "metadata": {},
   "outputs": [
    {
     "name": "stdout",
     "output_type": "stream",
     "text": [
      "71.71191251429006\n",
      "37.37213659635686\n",
      "7.188204132907542\n"
     ]
    }
   ],
   "source": [
    "print(err1(np.array(df)[:, 0], Y[:, 0]) * 300)\n",
    "print(err1(np.array(df)[:, 1], Y[:, 1]) * 1)\n",
    "print(err1(np.array(df)[:, 2], Y[:, 2]) * 200)"
   ]
  },
  {
   "cell_type": "code",
   "execution_count": 38,
   "metadata": {},
   "outputs": [
    {
     "name": "stdout",
     "output_type": "stream",
     "text": [
      "0.5067467139874647\n",
      "0.28831892372090595\n",
      "0.049928028674931124\n"
     ]
    }
   ],
   "source": [
    "print(err2(np.array(df)[:, 0], Y[:, 0]))\n",
    "print(err2(np.array(df)[:, 1], Y[:, 1]))\n",
    "print(err2(np.array(df)[:, 2], Y[:, 2]))"
   ]
  },
  {
   "cell_type": "code",
   "execution_count": null,
   "metadata": {},
   "outputs": [],
   "source": [
    "0.5067467139874647\n",
    "0.28831892372090595\n",
    "0.049928028674931124"
   ]
  },
  {
   "cell_type": "code",
   "execution_count": 27,
   "metadata": {},
   "outputs": [],
   "source": [
    "df.to_csv('t_val.csv', index=False, header=False)"
   ]
  },
  {
   "cell_type": "code",
   "execution_count": 28,
   "metadata": {},
   "outputs": [],
   "source": [
    "df = pd.read_csv('t_test.csv', header=None)"
   ]
  },
  {
   "cell_type": "code",
   "execution_count": 29,
   "metadata": {},
   "outputs": [],
   "source": [
    "df = df.transpose()"
   ]
  },
  {
   "cell_type": "code",
   "execution_count": 30,
   "metadata": {},
   "outputs": [
    {
     "data": {
      "text/plain": [
       "(2500, 3)"
      ]
     },
     "execution_count": 30,
     "metadata": {},
     "output_type": "execute_result"
    }
   ],
   "source": [
    "df.shape"
   ]
  },
  {
   "cell_type": "code",
   "execution_count": 31,
   "metadata": {},
   "outputs": [
    {
     "data": {
      "text/html": [
       "<div>\n",
       "<style scoped>\n",
       "    .dataframe tbody tr th:only-of-type {\n",
       "        vertical-align: middle;\n",
       "    }\n",
       "\n",
       "    .dataframe tbody tr th {\n",
       "        vertical-align: top;\n",
       "    }\n",
       "\n",
       "    .dataframe thead th {\n",
       "        text-align: right;\n",
       "    }\n",
       "</style>\n",
       "<table border=\"1\" class=\"dataframe\">\n",
       "  <thead>\n",
       "    <tr style=\"text-align: right;\">\n",
       "      <th></th>\n",
       "      <th>0</th>\n",
       "      <th>1</th>\n",
       "      <th>2</th>\n",
       "    </tr>\n",
       "  </thead>\n",
       "  <tbody>\n",
       "    <tr>\n",
       "      <th>0</th>\n",
       "      <td>0.474519</td>\n",
       "      <td>166.018480</td>\n",
       "      <td>0.603821</td>\n",
       "    </tr>\n",
       "    <tr>\n",
       "      <th>1</th>\n",
       "      <td>0.538965</td>\n",
       "      <td>145.684505</td>\n",
       "      <td>0.896760</td>\n",
       "    </tr>\n",
       "    <tr>\n",
       "      <th>2</th>\n",
       "      <td>0.490911</td>\n",
       "      <td>113.634429</td>\n",
       "      <td>0.794169</td>\n",
       "    </tr>\n",
       "    <tr>\n",
       "      <th>3</th>\n",
       "      <td>0.459936</td>\n",
       "      <td>164.424856</td>\n",
       "      <td>0.784917</td>\n",
       "    </tr>\n",
       "    <tr>\n",
       "      <th>4</th>\n",
       "      <td>0.454375</td>\n",
       "      <td>87.029360</td>\n",
       "      <td>0.749957</td>\n",
       "    </tr>\n",
       "  </tbody>\n",
       "</table>\n",
       "</div>"
      ],
      "text/plain": [
       "          0           1         2\n",
       "0  0.474519  166.018480  0.603821\n",
       "1  0.538965  145.684505  0.896760\n",
       "2  0.490911  113.634429  0.794169\n",
       "3  0.459936  164.424856  0.784917\n",
       "4  0.454375   87.029360  0.749957"
      ]
     },
     "execution_count": 31,
     "metadata": {},
     "output_type": "execute_result"
    }
   ],
   "source": [
    "df.head()"
   ]
  },
  {
   "cell_type": "code",
   "execution_count": 32,
   "metadata": {},
   "outputs": [],
   "source": [
    "df.to_csv('t_test.csv', index=False, header=False)"
   ]
  },
  {
   "cell_type": "code",
   "execution_count": null,
   "metadata": {},
   "outputs": [],
   "source": []
  }
 ],
 "metadata": {
  "kernelspec": {
   "display_name": "Python 3",
   "language": "python",
   "name": "python3"
  },
  "language_info": {
   "codemirror_mode": {
    "name": "ipython",
    "version": 3
   },
   "file_extension": ".py",
   "mimetype": "text/x-python",
   "name": "python",
   "nbconvert_exporter": "python",
   "pygments_lexer": "ipython3",
   "version": "3.7.3"
  }
 },
 "nbformat": 4,
 "nbformat_minor": 2
}
