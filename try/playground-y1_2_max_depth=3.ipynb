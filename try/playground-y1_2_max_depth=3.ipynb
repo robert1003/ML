{
 "cells": [
  {
   "cell_type": "code",
   "execution_count": 1,
   "metadata": {},
   "outputs": [],
   "source": [
    "# specify id\n",
    "y_id = 1\n",
    "track_id = 2\n",
    "server = 4"
   ]
  },
  {
   "cell_type": "code",
   "execution_count": 2,
   "metadata": {},
   "outputs": [],
   "source": [
    "# import module\n",
    "import sys\n",
    "sys.path.insert(0, '../')\n",
    "from utils.training_utils import *\n",
    "from sklearn.model_selection import GridSearchCV\n",
    "from sklearn.metrics import mean_absolute_error, make_scorer\n",
    "from sklearn.ensemble import ExtraTreesRegressor\n",
    "from sklearn.ensemble import RandomForestRegressor\n",
    "from xgboost import XGBRegressor\n",
    "import matplotlib.pyplot as plt\n",
    "import pandas as pd"
   ]
  },
  {
   "cell_type": "code",
   "execution_count": 3,
   "metadata": {},
   "outputs": [
    {
     "name": "stdout",
     "output_type": "stream",
     "text": [
      "(2500, 10000) (47500, 10000) (47500,)\n"
     ]
    }
   ],
   "source": [
    "# load datas\n",
    "test_x, train_x, train_y = load_data(y_id)\n",
    "print(test_x.shape, train_x.shape, train_y.shape)"
   ]
  },
  {
   "cell_type": "code",
   "execution_count": null,
   "metadata": {},
   "outputs": [],
   "source": [
    "# draw distribution of y1\n",
    "plt.boxplot(train_y)\n",
    "plt.show()\n",
    "plt.hist(train_y)\n",
    "plt.show()\n",
    "x = sorted(train_y)\n",
    "plt.plot(x)\n",
    "plt.show()\n",
    "print(train_y)\n",
    "d = pd.DataFrame(train_y)\n",
    "d.describe()"
   ]
  },
  {
   "cell_type": "code",
   "execution_count": 4,
   "metadata": {},
   "outputs": [
    {
     "name": "stdout",
     "output_type": "stream",
     "text": [
      "402\n",
      "(47500, 402)\n"
     ]
    }
   ],
   "source": [
    "# pick only important data\n",
    "idx = {}\n",
    "with open('../29/adaboost' + str(y_id) + '_feature.csv', 'r') as f:\n",
    "    i = 0\n",
    "    for lines in f:\n",
    "        importance = float(lines.replace('\\n', '').split(',')[y_id])\n",
    "        if i not in idx:\n",
    "            idx[i] = 0\n",
    "        idx[i] += importance\n",
    "        i += 1\n",
    "with open('../28/adaboost' + str(y_id) + '_feature.csv', 'r') as f:\n",
    "    i = 0\n",
    "    for lines in f:\n",
    "        importance = float(lines.replace('\\n', '').split(',')[y_id])\n",
    "        if i not in idx:\n",
    "            idx[i] = 0\n",
    "        idx[i] += importance\n",
    "        i += 1\n",
    "\n",
    "with open('../32/adaboost' + str(y_id) + '_feature.csv', 'r') as f:\n",
    "    i = 0\n",
    "    for lines in f:\n",
    "        importance = float(lines.replace('\\n', '').split(',')[y_id])\n",
    "        if i not in idx:\n",
    "            idx[i] = 0\n",
    "        idx[i] += importance\n",
    "        i += 1\n",
    "with open('../35/random_forest' + str(y_id) + '_feature.csv', 'r') as f:\n",
    "    i = 0\n",
    "    for lines in f:\n",
    "        importance = float(lines.replace('\\n', '').split(',')[y_id])\n",
    "        if i not in idx:\n",
    "            idx[i] = 0\n",
    "        idx[i] += importance\n",
    "        i += 1\n",
    "    \n",
    "idxx = [i[0] for i in idx.items() if i[1] > 1e-3]\n",
    "print(len(idxx))\n",
    "train_x = train_x[:, idxx]\n",
    "test_x = test_x[:, idxx]\n",
    "print(train_x.shape)"
   ]
  },
  {
   "cell_type": "code",
   "execution_count": 5,
   "metadata": {},
   "outputs": [
    {
     "name": "stdout",
     "output_type": "stream",
     "text": [
      "70543\n",
      "(70543, 402)\n"
     ]
    }
   ],
   "source": [
    "cnt = 0\n",
    "for i in train_y:\n",
    "    v = int(1 / i * 100 + 1)\n",
    "    cnt += v\n",
    "print(cnt)\n",
    "\n",
    "scaled_x = []\n",
    "scaled_y = []\n",
    "for i, j in zip(train_x, train_y):\n",
    "    v = int(1 / j * 100 + 1)\n",
    "    for _ in range(v):\n",
    "        scaled_x.append(i)\n",
    "        scaled_y.append(j)\n",
    "scaled_x = np.array(scaled_x)\n",
    "scaled_y = np.array(scaled_y)\n",
    "print(scaled_x.shape)"
   ]
  },
  {
   "cell_type": "code",
   "execution_count": 6,
   "metadata": {},
   "outputs": [],
   "source": [
    "# define my own scorer\n",
    "def scorer(y, y_pred):\n",
    "    return -np.sum(np.abs(y - y_pred) / y) / len(y)"
   ]
  },
  {
   "cell_type": "code",
   "execution_count": 7,
   "metadata": {},
   "outputs": [],
   "source": [
    "# define my own error function\n",
    "def mae(y_true, y_pred):\n",
    "    grad = np.tanh(y_pred - y_true)\n",
    "    hess = 1 - grad * grad\n",
    "    return grad, hess"
   ]
  },
  {
   "cell_type": "code",
   "execution_count": 8,
   "metadata": {},
   "outputs": [],
   "source": [
    "# specify parameters\n",
    "params_xgbr = {\n",
    "    'objective': mae\n",
    "}\n",
    "params_cv = {\n",
    "    'max_depth': [3],\n",
    "    'learning_rate': [0.1, 0.5, 1],\n",
    "    'n_estimators': [100, 500, 1000],\n",
    "    'verbosity': [2],\n",
    "    'booster': ['gbtree', 'dart'],\n",
    "    'n_jobs': [8],\n",
    "    'subsample': [0.5, 0.75]\n",
    "}"
   ]
  },
  {
   "cell_type": "code",
   "execution_count": 9,
   "metadata": {},
   "outputs": [
    {
     "name": "stdout",
     "output_type": "stream",
     "text": [
      "Fitting 3 folds for each of 36 candidates, totalling 108 fits\n"
     ]
    },
    {
     "name": "stderr",
     "output_type": "stream",
     "text": [
      "[Parallel(n_jobs=4)]: Using backend LokyBackend with 4 concurrent workers.\n",
      "[Parallel(n_jobs=4)]: Done   1 tasks      | elapsed:    8.3s\n",
      "[Parallel(n_jobs=4)]: Done   2 tasks      | elapsed:   15.7s\n",
      "[Parallel(n_jobs=4)]: Done   3 tasks      | elapsed:   19.8s\n",
      "[Parallel(n_jobs=4)]: Done   4 tasks      | elapsed:   19.8s\n",
      "[Parallel(n_jobs=4)]: Done   5 tasks      | elapsed:   20.5s\n",
      "[Parallel(n_jobs=4)]: Done   6 tasks      | elapsed:   22.3s\n",
      "[Parallel(n_jobs=4)]: Done   7 tasks      | elapsed:  1.9min\n",
      "[Parallel(n_jobs=4)]: Done   8 tasks      | elapsed:  2.0min\n",
      "[Parallel(n_jobs=4)]: Done   9 tasks      | elapsed:  2.0min\n",
      "[Parallel(n_jobs=4)]: Done  10 tasks      | elapsed:  2.1min\n",
      "[Parallel(n_jobs=4)]: Done  11 tasks      | elapsed:  2.4min\n",
      "[Parallel(n_jobs=4)]: Done  12 tasks      | elapsed:  3.2min\n",
      "[Parallel(n_jobs=4)]: Done  13 tasks      | elapsed:  5.3min\n",
      "[Parallel(n_jobs=4)]: Done  14 tasks      | elapsed:  5.5min\n",
      "[Parallel(n_jobs=4)]: Done  15 tasks      | elapsed:  5.7min\n",
      "[Parallel(n_jobs=4)]: Done  16 tasks      | elapsed:  6.0min\n",
      "[Parallel(n_jobs=4)]: Done  17 tasks      | elapsed:  6.3min\n",
      "[Parallel(n_jobs=4)]: Done  18 tasks      | elapsed:  6.6min\n",
      "[Parallel(n_jobs=4)]: Done  19 tasks      | elapsed:  6.7min\n",
      "[Parallel(n_jobs=4)]: Done  20 tasks      | elapsed:  6.7min\n",
      "[Parallel(n_jobs=4)]: Done  21 tasks      | elapsed:  7.0min\n",
      "[Parallel(n_jobs=4)]: Done  22 tasks      | elapsed:  7.0min\n",
      "[Parallel(n_jobs=4)]: Done  23 tasks      | elapsed:  7.1min\n",
      "[Parallel(n_jobs=4)]: Done  24 tasks      | elapsed:  8.5min\n",
      "[Parallel(n_jobs=4)]: Done  25 tasks      | elapsed:  8.6min\n",
      "[Parallel(n_jobs=4)]: Done  26 tasks      | elapsed:  8.7min\n",
      "[Parallel(n_jobs=4)]: Done  27 tasks      | elapsed:  8.7min\n",
      "[Parallel(n_jobs=4)]: Done  28 tasks      | elapsed: 10.3min\n",
      "[Parallel(n_jobs=4)]: Done  29 tasks      | elapsed: 10.4min\n",
      "[Parallel(n_jobs=4)]: Done  30 tasks      | elapsed: 10.6min\n",
      "[Parallel(n_jobs=4)]: Done  31 tasks      | elapsed: 12.1min\n",
      "[Parallel(n_jobs=4)]: Done  32 tasks      | elapsed: 13.6min\n",
      "[Parallel(n_jobs=4)]: Done  33 tasks      | elapsed: 13.7min\n",
      "[Parallel(n_jobs=4)]: Done  34 tasks      | elapsed: 14.0min\n",
      "[Parallel(n_jobs=4)]: Done  35 tasks      | elapsed: 14.3min\n",
      "[Parallel(n_jobs=4)]: Done  36 tasks      | elapsed: 14.4min\n",
      "[Parallel(n_jobs=4)]: Done  37 tasks      | elapsed: 14.6min\n",
      "[Parallel(n_jobs=4)]: Done  38 tasks      | elapsed: 14.7min\n",
      "[Parallel(n_jobs=4)]: Done  39 tasks      | elapsed: 14.9min\n",
      "[Parallel(n_jobs=4)]: Done  40 tasks      | elapsed: 15.1min\n",
      "[Parallel(n_jobs=4)]: Done  41 tasks      | elapsed: 15.8min\n",
      "[Parallel(n_jobs=4)]: Done  42 tasks      | elapsed: 16.4min\n",
      "[Parallel(n_jobs=4)]: Done  43 tasks      | elapsed: 16.7min\n",
      "[Parallel(n_jobs=4)]: Done  44 tasks      | elapsed: 17.4min\n",
      "[Parallel(n_jobs=4)]: Done  45 tasks      | elapsed: 17.4min\n",
      "[Parallel(n_jobs=4)]: Done  46 tasks      | elapsed: 18.3min\n",
      "[Parallel(n_jobs=4)]: Done  47 tasks      | elapsed: 18.6min\n",
      "[Parallel(n_jobs=4)]: Done  48 tasks      | elapsed: 19.3min\n",
      "[Parallel(n_jobs=4)]: Done  49 tasks      | elapsed: 20.6min\n",
      "[Parallel(n_jobs=4)]: Done  50 tasks      | elapsed: 21.6min\n",
      "[Parallel(n_jobs=4)]: Done  51 tasks      | elapsed: 21.9min\n",
      "[Parallel(n_jobs=4)]: Done  52 tasks      | elapsed: 22.3min\n",
      "[Parallel(n_jobs=4)]: Done  53 tasks      | elapsed: 22.8min\n",
      "[Parallel(n_jobs=4)]: Done  54 tasks      | elapsed: 23.2min\n",
      "[Parallel(n_jobs=4)]: Done  55 tasks      | elapsed: 23.2min\n",
      "[Parallel(n_jobs=4)]: Done  56 tasks      | elapsed: 23.4min\n",
      "[Parallel(n_jobs=4)]: Done  57 tasks      | elapsed: 23.4min\n",
      "[Parallel(n_jobs=4)]: Done  58 tasks      | elapsed: 23.6min\n",
      "[Parallel(n_jobs=4)]: Done  59 tasks      | elapsed: 24.2min\n",
      "[Parallel(n_jobs=4)]: Done  60 tasks      | elapsed: 25.3min\n",
      "[Parallel(n_jobs=4)]: Done  61 tasks      | elapsed: 26.1min\n",
      "[Parallel(n_jobs=4)]: Done  62 tasks      | elapsed: 26.4min\n",
      "[Parallel(n_jobs=4)]: Done  63 tasks      | elapsed: 26.5min\n",
      "[Parallel(n_jobs=4)]: Done  64 tasks      | elapsed: 26.9min\n",
      "[Parallel(n_jobs=4)]: Done  65 tasks      | elapsed: 27.2min\n",
      "[Parallel(n_jobs=4)]: Done  66 tasks      | elapsed: 27.5min\n",
      "[Parallel(n_jobs=4)]: Done  67 tasks      | elapsed: 30.3min\n",
      "[Parallel(n_jobs=4)]: Done  68 tasks      | elapsed: 33.1min\n",
      "[Parallel(n_jobs=4)]: Done  69 tasks      | elapsed: 33.4min\n",
      "[Parallel(n_jobs=4)]: Done  70 tasks      | elapsed: 33.9min\n",
      "[Parallel(n_jobs=4)]: Done  71 tasks      | elapsed: 34.0min\n",
      "[Parallel(n_jobs=4)]: Done  79 tasks      | elapsed: 37.4min\n",
      "[Parallel(n_jobs=4)]: Done  80 tasks      | elapsed: 37.7min\n",
      "[Parallel(n_jobs=4)]: Done  81 tasks      | elapsed: 37.8min\n",
      "[Parallel(n_jobs=4)]: Done  82 tasks      | elapsed: 38.8min\n",
      "[Parallel(n_jobs=4)]: Done  83 tasks      | elapsed: 40.6min\n",
      "[Parallel(n_jobs=4)]: Done  84 tasks      | elapsed: 40.8min\n",
      "[Parallel(n_jobs=4)]: Done  85 tasks      | elapsed: 45.2min\n",
      "[Parallel(n_jobs=4)]: Done  86 tasks      | elapsed: 46.1min\n",
      "[Parallel(n_jobs=4)]: Done  87 tasks      | elapsed: 48.0min\n",
      "[Parallel(n_jobs=4)]: Done  88 tasks      | elapsed: 48.3min\n",
      "[Parallel(n_jobs=4)]: Done  89 tasks      | elapsed: 48.4min\n",
      "[Parallel(n_jobs=4)]: Done  90 tasks      | elapsed: 48.7min\n",
      "[Parallel(n_jobs=4)]: Done  91 tasks      | elapsed: 48.8min\n",
      "[Parallel(n_jobs=4)]: Done  92 tasks      | elapsed: 49.2min\n",
      "[Parallel(n_jobs=4)]: Done  93 tasks      | elapsed: 49.3min\n",
      "[Parallel(n_jobs=4)]: Done  94 tasks      | elapsed: 49.6min\n",
      "[Parallel(n_jobs=4)]: Done  95 tasks      | elapsed: 52.2min\n",
      "[Parallel(n_jobs=4)]: Done  96 tasks      | elapsed: 52.6min\n",
      "[Parallel(n_jobs=4)]: Done  97 tasks      | elapsed: 52.6min\n",
      "[Parallel(n_jobs=4)]: Done  98 tasks      | elapsed: 53.6min\n",
      "[Parallel(n_jobs=4)]: Done  99 tasks      | elapsed: 55.1min\n",
      "[Parallel(n_jobs=4)]: Done 100 tasks      | elapsed: 55.6min\n",
      "[Parallel(n_jobs=4)]: Done 101 tasks      | elapsed: 55.7min\n",
      "[Parallel(n_jobs=4)]: Done 108 out of 108 | elapsed: 68.0min finished\n",
      "/home/student/07/b07902047/python-packages/xgboost/lib/python3.7/site-packages/xgboost/core.py:613: UserWarning: Use subset (sliced data) of np.ndarray is not recommended because it will generate extra copies and increase memory consumption\n",
      "  warnings.warn(\"Use subset (sliced data) of np.ndarray is not recommended \" +\n"
     ]
    },
    {
     "data": {
      "text/plain": [
       "GridSearchCV(cv=3, error_score='raise-deprecating',\n",
       "       estimator=XGBRegressor(base_score=0.5, booster='gbtree', colsample_bylevel=1,\n",
       "       colsample_bytree=1, gamma=0, importance_type='gain',\n",
       "       learning_rate=0.1, max_delta_step=0, max_depth=3,\n",
       "       min_child_weight=1, missing=None, n_estimators=100, n_jobs=1,\n",
       "       nthread=None, objective=<function mae at 0x7f55608d1950>,\n",
       "       random_state=0, reg_alpha=0, reg_lambda=1, scale_pos_weight=1,\n",
       "       seed=None, silent=True, subsample=1),\n",
       "       fit_params=None, iid='warn', n_jobs=4,\n",
       "       param_grid={'max_depth': [3], 'learning_rate': [0.1, 0.5, 1], 'n_estimators': [100, 500, 1000], 'verbosity': [2], 'booster': ['gbtree', 'dart'], 'n_jobs': [8], 'subsample': [0.5, 0.75]},\n",
       "       pre_dispatch='2*n_jobs', refit=True, return_train_score=True,\n",
       "       scoring=make_scorer(scorer), verbose=20)"
      ]
     },
     "execution_count": 9,
     "metadata": {},
     "output_type": "execute_result"
    }
   ],
   "source": [
    "# create XGBRegressor\n",
    "model = GridSearchCV(estimator=XGBRegressor(**params_xgbr),\n",
    "                     param_grid=params_cv, \n",
    "                     scoring=make_scorer(scorer),\n",
    "                     cv=3,\n",
    "                     verbose=20,\n",
    "                     n_jobs=4,\n",
    "                     return_train_score=True)\n",
    "model.fit(train_x, train_y)"
   ]
  },
  {
   "cell_type": "code",
   "execution_count": 10,
   "metadata": {},
   "outputs": [
    {
     "name": "stdout",
     "output_type": "stream",
     "text": [
      "err2: 11.898986466565901\n",
      "err1: 1199.9759230280029\n",
      "params: {'booster': 'dart', 'learning_rate': 0.1, 'max_depth': 3, 'n_estimators': 1000, 'n_jobs': 8, 'subsample': 0.5, 'verbosity': 2}\n",
      "best scores: -0.216674034957493\n"
     ]
    }
   ],
   "source": [
    "print(\"err2:\", err2_calc(model.predict(train_x), train_y))\n",
    "print(\"err1:\", err1_calc(model.predict(train_x), train_y, y_id))\n",
    "print(\"params:\", model.best_params_)\n",
    "print(\"best scores:\", model.best_score_)"
   ]
  },
  {
   "cell_type": "code",
   "execution_count": 11,
   "metadata": {},
   "outputs": [
    {
     "name": "stdout",
     "output_type": "stream",
     "text": [
      "YA\n"
     ]
    }
   ],
   "source": [
    "print(\"YA\")"
   ]
  },
  {
   "cell_type": "code",
   "execution_count": 12,
   "metadata": {},
   "outputs": [
    {
     "name": "stdout",
     "output_type": "stream",
     "text": [
      "Fitting 3 folds for each of 36 candidates, totalling 108 fits\n"
     ]
    },
    {
     "name": "stderr",
     "output_type": "stream",
     "text": [
      "[Parallel(n_jobs=4)]: Using backend LokyBackend with 4 concurrent workers.\n",
      "[Parallel(n_jobs=4)]: Done   1 tasks      | elapsed:    8.8s\n",
      "[Parallel(n_jobs=4)]: Done   2 tasks      | elapsed:   10.0s\n",
      "[Parallel(n_jobs=4)]: Done   3 tasks      | elapsed:   10.8s\n",
      "[Parallel(n_jobs=4)]: Done   4 tasks      | elapsed:   14.2s\n",
      "[Parallel(n_jobs=4)]: Done   5 tasks      | elapsed:   20.8s\n",
      "[Parallel(n_jobs=4)]: Done   6 tasks      | elapsed:   22.0s\n",
      "[Parallel(n_jobs=4)]: Done   7 tasks      | elapsed:   56.1s\n",
      "[Parallel(n_jobs=4)]: Done   8 tasks      | elapsed:  1.0min\n",
      "[Parallel(n_jobs=4)]: Done   9 tasks      | elapsed:  2.2min\n",
      "[Parallel(n_jobs=4)]: Done  10 tasks      | elapsed:  2.6min\n",
      "[Parallel(n_jobs=4)]: Done  11 tasks      | elapsed:  3.2min\n",
      "[Parallel(n_jobs=4)]: Done  12 tasks      | elapsed:  3.3min\n",
      "[Parallel(n_jobs=4)]: Done  13 tasks      | elapsed:  3.9min\n",
      "[Parallel(n_jobs=4)]: Done  14 tasks      | elapsed:  4.6min\n",
      "[Parallel(n_jobs=4)]: Done  15 tasks      | elapsed:  6.5min\n",
      "[Parallel(n_jobs=4)]: Done  16 tasks      | elapsed:  7.0min\n",
      "[Parallel(n_jobs=4)]: Done  17 tasks      | elapsed:  7.4min\n",
      "[Parallel(n_jobs=4)]: Done  18 tasks      | elapsed:  7.9min\n",
      "[Parallel(n_jobs=4)]: Done  19 tasks      | elapsed:  8.2min\n",
      "[Parallel(n_jobs=4)]: Done  20 tasks      | elapsed:  8.5min\n",
      "[Parallel(n_jobs=4)]: Done  21 tasks      | elapsed:  8.7min\n",
      "[Parallel(n_jobs=4)]: Done  22 tasks      | elapsed:  8.8min\n",
      "[Parallel(n_jobs=4)]: Done  23 tasks      | elapsed:  9.0min\n",
      "[Parallel(n_jobs=4)]: Done  24 tasks      | elapsed:  9.5min\n",
      "[Parallel(n_jobs=4)]: Done  25 tasks      | elapsed: 11.0min\n",
      "[Parallel(n_jobs=4)]: Done  26 tasks      | elapsed: 11.1min\n",
      "[Parallel(n_jobs=4)]: Done  27 tasks      | elapsed: 11.4min\n",
      "[Parallel(n_jobs=4)]: Done  28 tasks      | elapsed: 12.1min\n",
      "[Parallel(n_jobs=4)]: Done  29 tasks      | elapsed: 13.5min\n",
      "[Parallel(n_jobs=4)]: Done  30 tasks      | elapsed: 13.7min\n",
      "[Parallel(n_jobs=4)]: Done  31 tasks      | elapsed: 16.2min\n",
      "[Parallel(n_jobs=4)]: Done  32 tasks      | elapsed: 16.6min\n",
      "[Parallel(n_jobs=4)]: Done  33 tasks      | elapsed: 18.1min\n",
      "[Parallel(n_jobs=4)]: Done  34 tasks      | elapsed: 18.6min\n",
      "[Parallel(n_jobs=4)]: Done  35 tasks      | elapsed: 18.9min\n",
      "[Parallel(n_jobs=4)]: Done  36 tasks      | elapsed: 19.0min\n",
      "[Parallel(n_jobs=4)]: Done  37 tasks      | elapsed: 19.3min\n",
      "[Parallel(n_jobs=4)]: Done  38 tasks      | elapsed: 19.5min\n",
      "[Parallel(n_jobs=4)]: Done  39 tasks      | elapsed: 19.8min\n",
      "[Parallel(n_jobs=4)]: Done  40 tasks      | elapsed: 20.0min\n",
      "[Parallel(n_jobs=4)]: Done  41 tasks      | elapsed: 21.4min\n",
      "[Parallel(n_jobs=4)]: Done  42 tasks      | elapsed: 21.4min\n",
      "[Parallel(n_jobs=4)]: Done  43 tasks      | elapsed: 21.7min\n",
      "[Parallel(n_jobs=4)]: Done  44 tasks      | elapsed: 22.2min\n",
      "[Parallel(n_jobs=4)]: Done  45 tasks      | elapsed: 23.1min\n",
      "[Parallel(n_jobs=4)]: Done  46 tasks      | elapsed: 23.8min\n",
      "[Parallel(n_jobs=4)]: Done  47 tasks      | elapsed: 24.2min\n",
      "[Parallel(n_jobs=4)]: Done  48 tasks      | elapsed: 24.7min\n",
      "[Parallel(n_jobs=4)]: Done  49 tasks      | elapsed: 26.6min\n",
      "[Parallel(n_jobs=4)]: Done  50 tasks      | elapsed: 27.8min\n",
      "[Parallel(n_jobs=4)]: Done  51 tasks      | elapsed: 28.4min\n",
      "[Parallel(n_jobs=4)]: Done  52 tasks      | elapsed: 28.8min\n",
      "[Parallel(n_jobs=4)]: Done  53 tasks      | elapsed: 29.2min\n",
      "[Parallel(n_jobs=4)]: Done  54 tasks      | elapsed: 29.2min\n",
      "[Parallel(n_jobs=4)]: Done  55 tasks      | elapsed: 29.5min\n",
      "[Parallel(n_jobs=4)]: Done  56 tasks      | elapsed: 29.6min\n",
      "[Parallel(n_jobs=4)]: Done  57 tasks      | elapsed: 29.9min\n",
      "[Parallel(n_jobs=4)]: Done  58 tasks      | elapsed: 30.0min\n",
      "[Parallel(n_jobs=4)]: Done  59 tasks      | elapsed: 30.6min\n",
      "[Parallel(n_jobs=4)]: Done  60 tasks      | elapsed: 32.7min\n",
      "[Parallel(n_jobs=4)]: Done  61 tasks      | elapsed: 33.3min\n",
      "[Parallel(n_jobs=4)]: Done  62 tasks      | elapsed: 33.5min\n",
      "[Parallel(n_jobs=4)]: Done  63 tasks      | elapsed: 34.1min\n",
      "[Parallel(n_jobs=4)]: Done  64 tasks      | elapsed: 36.5min\n",
      "[Parallel(n_jobs=4)]: Done  65 tasks      | elapsed: 37.0min\n",
      "[Parallel(n_jobs=4)]: Done  66 tasks      | elapsed: 37.1min\n",
      "[Parallel(n_jobs=4)]: Done  67 tasks      | elapsed: 43.2min\n",
      "[Parallel(n_jobs=4)]: Done  68 tasks      | elapsed: 45.6min\n",
      "[Parallel(n_jobs=4)]: Done  69 tasks      | elapsed: 46.3min\n",
      "[Parallel(n_jobs=4)]: Done  70 tasks      | elapsed: 46.7min\n",
      "[Parallel(n_jobs=4)]: Done  71 tasks      | elapsed: 46.9min\n",
      "[Parallel(n_jobs=4)]: Done  72 tasks      | elapsed: 47.4min\n",
      "[Parallel(n_jobs=4)]: Done  73 tasks      | elapsed: 47.6min\n",
      "[Parallel(n_jobs=4)]: Done  74 tasks      | elapsed: 48.0min\n",
      "[Parallel(n_jobs=4)]: Done  75 tasks      | elapsed: 48.3min\n",
      "[Parallel(n_jobs=4)]: Done  76 tasks      | elapsed: 48.7min\n",
      "[Parallel(n_jobs=4)]: Done  77 tasks      | elapsed: 52.1min\n",
      "[Parallel(n_jobs=4)]: Done  78 tasks      | elapsed: 52.7min\n",
      "[Parallel(n_jobs=4)]: Done  79 tasks      | elapsed: 52.8min\n",
      "[Parallel(n_jobs=4)]: Done  80 tasks      | elapsed: 55.2min\n",
      "[Parallel(n_jobs=4)]: Done  81 tasks      | elapsed: 56.0min\n",
      "[Parallel(n_jobs=4)]: Done  82 tasks      | elapsed: 56.8min\n",
      "[Parallel(n_jobs=4)]: Done  83 tasks      | elapsed: 57.0min\n",
      "[Parallel(n_jobs=4)]: Done  84 tasks      | elapsed: 59.3min\n",
      "[Parallel(n_jobs=4)]: Done  85 tasks      | elapsed: 65.2min\n",
      "[Parallel(n_jobs=4)]: Done  86 tasks      | elapsed: 66.3min\n",
      "[Parallel(n_jobs=4)]: Done  87 tasks      | elapsed: 66.6min\n",
      "[Parallel(n_jobs=4)]: Done  88 tasks      | elapsed: 67.3min\n",
      "[Parallel(n_jobs=4)]: Done  89 tasks      | elapsed: 67.9min\n",
      "[Parallel(n_jobs=4)]: Done  90 tasks      | elapsed: 68.6min\n",
      "[Parallel(n_jobs=4)]: Done  91 tasks      | elapsed: 69.3min\n",
      "[Parallel(n_jobs=4)]: Done  92 tasks      | elapsed: 69.5min\n",
      "[Parallel(n_jobs=4)]: Done  93 tasks      | elapsed: 70.0min\n",
      "[Parallel(n_jobs=4)]: Done  94 tasks      | elapsed: 70.2min\n",
      "[Parallel(n_jobs=4)]: Done  95 tasks      | elapsed: 73.8min\n",
      "[Parallel(n_jobs=4)]: Done  96 tasks      | elapsed: 73.8min\n",
      "[Parallel(n_jobs=4)]: Done  97 tasks      | elapsed: 75.3min\n",
      "[Parallel(n_jobs=4)]: Done  98 tasks      | elapsed: 76.0min\n",
      "[Parallel(n_jobs=4)]: Done  99 tasks      | elapsed: 77.6min\n",
      "[Parallel(n_jobs=4)]: Done 100 tasks      | elapsed: 77.8min\n",
      "[Parallel(n_jobs=4)]: Done 101 tasks      | elapsed: 79.3min\n",
      "[Parallel(n_jobs=4)]: Done 108 out of 108 | elapsed: 94.7min finished\n"
     ]
    },
    {
     "data": {
      "text/plain": [
       "GridSearchCV(cv=3, error_score='raise-deprecating',\n",
       "       estimator=XGBRegressor(base_score=0.5, booster='gbtree', colsample_bylevel=1,\n",
       "       colsample_bytree=1, gamma=0, importance_type='gain',\n",
       "       learning_rate=0.1, max_delta_step=0, max_depth=3,\n",
       "       min_child_weight=1, missing=None, n_estimators=100, n_jobs=1,\n",
       "       nthread=None, objective=<function mae at 0x7f55608d1950>,\n",
       "       random_state=0, reg_alpha=0, reg_lambda=1, scale_pos_weight=1,\n",
       "       seed=None, silent=True, subsample=1),\n",
       "       fit_params=None, iid='warn', n_jobs=4,\n",
       "       param_grid={'max_depth': [3], 'learning_rate': [0.1, 0.5, 1], 'n_estimators': [100, 500, 1000], 'verbosity': [2], 'booster': ['gbtree', 'dart'], 'n_jobs': [8], 'subsample': [0.5, 0.75]},\n",
       "       pre_dispatch='2*n_jobs', refit=True, return_train_score=True,\n",
       "       scoring=make_scorer(scorer), verbose=20)"
      ]
     },
     "execution_count": 12,
     "metadata": {},
     "output_type": "execute_result"
    }
   ],
   "source": [
    "# create XGBRegressor\n",
    "model2 = GridSearchCV(estimator=XGBRegressor(**params_xgbr),\n",
    "                     param_grid=params_cv, \n",
    "                     scoring=make_scorer(scorer),\n",
    "                     cv=3,\n",
    "                     verbose=20,\n",
    "                     n_jobs=4,\n",
    "                     return_train_score=True)\n",
    "model2.fit(scaled_x, scaled_y)"
   ]
  },
  {
   "cell_type": "code",
   "execution_count": 13,
   "metadata": {},
   "outputs": [
    {
     "name": "stdout",
     "output_type": "stream",
     "text": [
      "err2: 0.20334658268288996\n",
      "err1: 26.514212473061292\n",
      "params: {'booster': 'gbtree', 'learning_rate': 0.1, 'max_depth': 3, 'n_estimators': 1000, 'n_jobs': 8, 'subsample': 0.75, 'verbosity': 2}\n",
      "best scores: -0.23006964760422205\n"
     ]
    }
   ],
   "source": [
    "print(\"err2:\", err2_calc(model2.predict(train_x), train_y))\n",
    "print(\"err1:\", err1_calc(model2.predict(train_x), train_y, y_id))\n",
    "print(\"params:\", model2.best_params_)\n",
    "print(\"best scores:\", model2.best_score_)"
   ]
  },
  {
   "cell_type": "code",
   "execution_count": 14,
   "metadata": {},
   "outputs": [],
   "source": [
    "# write files\n",
    "write_prediction('train_y' + str(y_id) + '_' + str(track_id) + 'depth=3.txt', 'w', model2.predict(train_x).reshape((47500, 1)).astype('str'))\n",
    "write_prediction('test_y' + str(y_id) + '_' + str(track_id) + 'depth=3.txt', 'w', model2.predict(test_x).reshape((2500, 1)).astype('str'))"
   ]
  },
  {
   "cell_type": "code",
   "execution_count": null,
   "metadata": {},
   "outputs": [],
   "source": []
  }
 ],
 "metadata": {
  "kernelspec": {
   "display_name": "Python 3",
   "language": "python",
   "name": "python3"
  },
  "language_info": {
   "codemirror_mode": {
    "name": "ipython",
    "version": 3
   },
   "file_extension": ".py",
   "mimetype": "text/x-python",
   "name": "python",
   "nbconvert_exporter": "python",
   "pygments_lexer": "ipython3",
   "version": "3.7.3"
  }
 },
 "nbformat": 4,
 "nbformat_minor": 2
}
